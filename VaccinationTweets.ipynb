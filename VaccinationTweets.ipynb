{
  "nbformat": 4,
  "nbformat_minor": 0,
  "metadata": {
    "colab": {
      "name": "VaccinationTweets.ipynb",
      "provenance": [],
      "toc_visible": true,
      "authorship_tag": "ABX9TyNrDQ/hSJWE5F9aXuOd0bh+",
      "include_colab_link": true
    },
    "kernelspec": {
      "name": "python3",
      "display_name": "Python 3"
    },
    "language_info": {
      "name": "python"
    }
  },
  "cells": [
    {
      "cell_type": "markdown",
      "metadata": {
        "id": "view-in-github",
        "colab_type": "text"
      },
      "source": [
        "<a href=\"https://colab.research.google.com/github/ajay-del-bot/Sentiment-Analysis-on-COVID-19-Vaccination-Tweets/blob/main/VaccinationTweets.ipynb\" target=\"_parent\"><img src=\"https://colab.research.google.com/assets/colab-badge.svg\" alt=\"Open In Colab\"/></a>"
      ]
    },
    {
      "cell_type": "code",
      "metadata": {
        "id": "X3uTa_TAvgnB"
      },
      "source": [
        "%config Completer.use_jedi = False"
      ],
      "execution_count": null,
      "outputs": []
    },
    {
      "cell_type": "code",
      "metadata": {
        "colab": {
          "base_uri": "https://localhost:8080/"
        },
        "id": "90mPqxfvDTba",
        "outputId": "56582e39-8188-41cf-f5c7-243c2325af91"
      },
      "source": [
        "!pip install -U gensim"
      ],
      "execution_count": null,
      "outputs": [
        {
          "output_type": "stream",
          "text": [
            "Collecting gensim\n",
            "  Downloading gensim-4.0.1-cp37-cp37m-win_amd64.whl (23.9 MB)\n",
            "Requirement already satisfied: Cython==0.29.21 in c:\\anaconda\\lib\\site-packages (from gensim) (0.29.21)\n",
            "Requirement already satisfied: scipy>=0.18.1 in c:\\anaconda\\lib\\site-packages (from gensim) (1.6.0)\n",
            "Requirement already satisfied: numpy>=1.11.3 in c:\\anaconda\\lib\\site-packages (from gensim) (1.19.5)\n",
            "Collecting smart-open>=1.8.1\n",
            "  Downloading smart_open-5.1.0-py3-none-any.whl (57 kB)\n",
            "Installing collected packages: smart-open, gensim\n",
            "Successfully installed gensim-4.0.1 smart-open-5.1.0\n"
          ],
          "name": "stdout"
        }
      ]
    },
    {
      "cell_type": "code",
      "metadata": {
        "id": "e9Hp_3jeoYlw"
      },
      "source": [
        "import re\n",
        "import matplotlib.pyplot as plt\n",
        "import string\n",
        "from nltk.corpus import stopwords\n",
        "import nltk\n",
        "from nltk.corpus import wordnet\n",
        "from nltk.stem import WordNetLemmatizer\n",
        "from nltk.stem import LancasterStemmer\n",
        "from nltk.tokenize.treebank import TreebankWordDetokenizer\n",
        "from collections import Counter\n",
        "from wordcloud import WordCloud\n",
        "from nltk.corpus import stopwords\n",
        "import nltk\n",
        "from gensim.utils import simple_preprocess\n",
        "from nltk.corpus import stopwords\n",
        "import gensim\n",
        "from sklearn.model_selection import train_test_split\n",
        "import pickle\n",
        "import warnings\n",
        "warnings.filterwarnings('ignore')\n",
        "warnings.simplefilter(action='ignore', category=FutureWarning)\n",
        "import matplotlib.pyplot as plt \n",
        "import tensorflow as tf\n",
        "import keras\n",
        "from keras.utils.vis_utils import plot_model\n",
        "import numpy as np\n",
        "import pandas as pd\n",
        "import datetime\n",
        "\n",
        "#for confusion matrix\n",
        "import seaborn\n",
        "from sklearn.metrics import confusion_matrix"
      ],
      "execution_count": null,
      "outputs": []
    },
    {
      "cell_type": "code",
      "metadata": {
        "colab": {
          "base_uri": "https://localhost:8080/",
          "height": 502
        },
        "id": "SXl47dHQ0WEE",
        "outputId": "94d662fc-d0cb-4f5b-9b22-ddaea81c839f"
      },
      "source": [
        "train = pd.read_csv(\"tweet_dataset.csv\")\n",
        "train.head(10)"
      ],
      "execution_count": null,
      "outputs": [
        {
          "output_type": "execute_result",
          "data": {
            "text/plain": [
              "       textID   sentiment         author  \\\n",
              "0  1956967341       empty     xoshayzers   \n",
              "1  1956967666     sadness      wannamama   \n",
              "2  1956967696     sadness      coolfunky   \n",
              "3  1956967789  enthusiasm    czareaquino   \n",
              "4  1956968416     neutral      xkilljoyx   \n",
              "5  1956968477       worry  xxxPEACHESxxx   \n",
              "6  1956968487     sadness       ShansBee   \n",
              "7  1956968636       worry       mcsleazy   \n",
              "8  1956969035     sadness    nic0lepaula   \n",
              "9  1956969172     sadness     Ingenue_Em   \n",
              "\n",
              "                                                                                                                               text  \\\n",
              "0                                                  i know  i was listenin to bad habit earlier and i started freakin at his part =[   \n",
              "1                                                                      Layin n bed with a headache  ughhhh...waitin on your call...   \n",
              "2                                                                                               Funeral ceremony...gloomy friday...   \n",
              "3                                                                                              wants to hang out with friends SOON!   \n",
              "4                                                           We want to trade with someone who has Houston tickets, but no one will.   \n",
              "5                                                           Re-pinging : why didn`t you go to prom? BC my bf didn`t like my friends   \n",
              "6  I should be sleep, but im not! thinking about an old friend who I want. but he`s married now. ****, & he wants me 2! scandalous!   \n",
              "7                                                                                              Hmmm. http://www.djhero.com/ is down   \n",
              "8                                                                                                      Charlene my love. I miss you   \n",
              "9                                                                                                  I`m sorry  at least it`s Friday?   \n",
              "\n",
              "                                                                                                                               old_text  \\\n",
              "0                                          @tiffanylue i know  i was listenin to bad habit earlier and i started freakin at his part =[   \n",
              "1                                                                          Layin n bed with a headache  ughhhh...waitin on your call...   \n",
              "2                                                                                                   Funeral ceremony...gloomy friday...   \n",
              "3                                                                                                  wants to hang out with friends SOON!   \n",
              "4                                                @dannycastillo We want to trade with someone who has Houston tickets, but no one will.   \n",
              "5                                                  Re-pinging @ghostridah14: why didn't you go to prom? BC my bf didn't like my friends   \n",
              "6  I should be sleep, but im not! thinking about an old friend who I want. but he's married now. damn, &amp; he wants me 2! scandalous!   \n",
              "7                                                                                                  Hmmm. http://www.djhero.com/ is down   \n",
              "8                                                                                               @charviray Charlene my love. I miss you   \n",
              "9                                                                                            @kelcouch I'm sorry  at least it's Friday?   \n",
              "\n",
              "        aux_id new_sentiment  \\\n",
              "0  p1000000000           NaN   \n",
              "1   c811396dc2      negative   \n",
              "2   9063631ab1      negative   \n",
              "3   2a815f151d      positive   \n",
              "4   82565a56d3       neutral   \n",
              "5   a610d6b25b      negative   \n",
              "6  p1000000001           NaN   \n",
              "7   2dfbe0b7fb      negative   \n",
              "8   cc22eca4c5      negative   \n",
              "9   6d846d7d50      negative   \n",
              "\n",
              "                                                             selected_text  \n",
              "0                                                                      NaN  \n",
              "1                                                                 headache  \n",
              "2                                                                   gloomy  \n",
              "3                                     wants to hang out with friends SOON!  \n",
              "4  We want to trade with someone who has Houston tickets, but no one will.  \n",
              "5                                                           didn`t like my  \n",
              "6                                                                      NaN  \n",
              "7                                                                      NaN  \n",
              "8                                             Charlene my love. I miss you  \n",
              "9                                                                      NaN  "
            ],
            "text/html": [
              "<div>\n",
              "<style scoped>\n",
              "    .dataframe tbody tr th:only-of-type {\n",
              "        vertical-align: middle;\n",
              "    }\n",
              "\n",
              "    .dataframe tbody tr th {\n",
              "        vertical-align: top;\n",
              "    }\n",
              "\n",
              "    .dataframe thead th {\n",
              "        text-align: right;\n",
              "    }\n",
              "</style>\n",
              "<table border=\"1\" class=\"dataframe\">\n",
              "  <thead>\n",
              "    <tr style=\"text-align: right;\">\n",
              "      <th></th>\n",
              "      <th>textID</th>\n",
              "      <th>sentiment</th>\n",
              "      <th>author</th>\n",
              "      <th>text</th>\n",
              "      <th>old_text</th>\n",
              "      <th>aux_id</th>\n",
              "      <th>new_sentiment</th>\n",
              "      <th>selected_text</th>\n",
              "    </tr>\n",
              "  </thead>\n",
              "  <tbody>\n",
              "    <tr>\n",
              "      <th>0</th>\n",
              "      <td>1956967341</td>\n",
              "      <td>empty</td>\n",
              "      <td>xoshayzers</td>\n",
              "      <td>i know  i was listenin to bad habit earlier and i started freakin at his part =[</td>\n",
              "      <td>@tiffanylue i know  i was listenin to bad habit earlier and i started freakin at his part =[</td>\n",
              "      <td>p1000000000</td>\n",
              "      <td>NaN</td>\n",
              "      <td>NaN</td>\n",
              "    </tr>\n",
              "    <tr>\n",
              "      <th>1</th>\n",
              "      <td>1956967666</td>\n",
              "      <td>sadness</td>\n",
              "      <td>wannamama</td>\n",
              "      <td>Layin n bed with a headache  ughhhh...waitin on your call...</td>\n",
              "      <td>Layin n bed with a headache  ughhhh...waitin on your call...</td>\n",
              "      <td>c811396dc2</td>\n",
              "      <td>negative</td>\n",
              "      <td>headache</td>\n",
              "    </tr>\n",
              "    <tr>\n",
              "      <th>2</th>\n",
              "      <td>1956967696</td>\n",
              "      <td>sadness</td>\n",
              "      <td>coolfunky</td>\n",
              "      <td>Funeral ceremony...gloomy friday...</td>\n",
              "      <td>Funeral ceremony...gloomy friday...</td>\n",
              "      <td>9063631ab1</td>\n",
              "      <td>negative</td>\n",
              "      <td>gloomy</td>\n",
              "    </tr>\n",
              "    <tr>\n",
              "      <th>3</th>\n",
              "      <td>1956967789</td>\n",
              "      <td>enthusiasm</td>\n",
              "      <td>czareaquino</td>\n",
              "      <td>wants to hang out with friends SOON!</td>\n",
              "      <td>wants to hang out with friends SOON!</td>\n",
              "      <td>2a815f151d</td>\n",
              "      <td>positive</td>\n",
              "      <td>wants to hang out with friends SOON!</td>\n",
              "    </tr>\n",
              "    <tr>\n",
              "      <th>4</th>\n",
              "      <td>1956968416</td>\n",
              "      <td>neutral</td>\n",
              "      <td>xkilljoyx</td>\n",
              "      <td>We want to trade with someone who has Houston tickets, but no one will.</td>\n",
              "      <td>@dannycastillo We want to trade with someone who has Houston tickets, but no one will.</td>\n",
              "      <td>82565a56d3</td>\n",
              "      <td>neutral</td>\n",
              "      <td>We want to trade with someone who has Houston tickets, but no one will.</td>\n",
              "    </tr>\n",
              "    <tr>\n",
              "      <th>5</th>\n",
              "      <td>1956968477</td>\n",
              "      <td>worry</td>\n",
              "      <td>xxxPEACHESxxx</td>\n",
              "      <td>Re-pinging : why didn`t you go to prom? BC my bf didn`t like my friends</td>\n",
              "      <td>Re-pinging @ghostridah14: why didn't you go to prom? BC my bf didn't like my friends</td>\n",
              "      <td>a610d6b25b</td>\n",
              "      <td>negative</td>\n",
              "      <td>didn`t like my</td>\n",
              "    </tr>\n",
              "    <tr>\n",
              "      <th>6</th>\n",
              "      <td>1956968487</td>\n",
              "      <td>sadness</td>\n",
              "      <td>ShansBee</td>\n",
              "      <td>I should be sleep, but im not! thinking about an old friend who I want. but he`s married now. ****, &amp; he wants me 2! scandalous!</td>\n",
              "      <td>I should be sleep, but im not! thinking about an old friend who I want. but he's married now. damn, &amp;amp; he wants me 2! scandalous!</td>\n",
              "      <td>p1000000001</td>\n",
              "      <td>NaN</td>\n",
              "      <td>NaN</td>\n",
              "    </tr>\n",
              "    <tr>\n",
              "      <th>7</th>\n",
              "      <td>1956968636</td>\n",
              "      <td>worry</td>\n",
              "      <td>mcsleazy</td>\n",
              "      <td>Hmmm. http://www.djhero.com/ is down</td>\n",
              "      <td>Hmmm. http://www.djhero.com/ is down</td>\n",
              "      <td>2dfbe0b7fb</td>\n",
              "      <td>negative</td>\n",
              "      <td>NaN</td>\n",
              "    </tr>\n",
              "    <tr>\n",
              "      <th>8</th>\n",
              "      <td>1956969035</td>\n",
              "      <td>sadness</td>\n",
              "      <td>nic0lepaula</td>\n",
              "      <td>Charlene my love. I miss you</td>\n",
              "      <td>@charviray Charlene my love. I miss you</td>\n",
              "      <td>cc22eca4c5</td>\n",
              "      <td>negative</td>\n",
              "      <td>Charlene my love. I miss you</td>\n",
              "    </tr>\n",
              "    <tr>\n",
              "      <th>9</th>\n",
              "      <td>1956969172</td>\n",
              "      <td>sadness</td>\n",
              "      <td>Ingenue_Em</td>\n",
              "      <td>I`m sorry  at least it`s Friday?</td>\n",
              "      <td>@kelcouch I'm sorry  at least it's Friday?</td>\n",
              "      <td>6d846d7d50</td>\n",
              "      <td>negative</td>\n",
              "      <td>NaN</td>\n",
              "    </tr>\n",
              "  </tbody>\n",
              "</table>\n",
              "</div>"
            ]
          },
          "metadata": {
            "tags": []
          },
          "execution_count": 68
        }
      ]
    },
    {
      "cell_type": "code",
      "metadata": {
        "colab": {
          "base_uri": "https://localhost:8080/"
        },
        "id": "cpVWbPJv0WPl",
        "outputId": "dd5fd384-c4d9-4c23-8631-2d5ac6210837"
      },
      "source": [
        "train['sentiment'].unique()"
      ],
      "execution_count": null,
      "outputs": [
        {
          "output_type": "execute_result",
          "data": {
            "text/plain": [
              "array(['empty', 'sadness', 'enthusiasm', 'neutral', 'worry', 'surprise',\n",
              "       'love', 'fun', 'hate', 'happiness', 'boredom', 'relief', 'anger'],\n",
              "      dtype=object)"
            ]
          },
          "metadata": {
            "tags": []
          },
          "execution_count": 69
        }
      ]
    },
    {
      "cell_type": "code",
      "metadata": {
        "colab": {
          "base_uri": "https://localhost:8080/"
        },
        "id": "MkO_-dFH0WVw",
        "outputId": "a7b63af6-9d15-46e2-8833-5803a1f79aea"
      },
      "source": [
        "train['new_sentiment'].unique()"
      ],
      "execution_count": null,
      "outputs": [
        {
          "output_type": "execute_result",
          "data": {
            "text/plain": [
              "array([nan, 'negative', 'positive', 'neutral'], dtype=object)"
            ]
          },
          "metadata": {
            "tags": []
          },
          "execution_count": 70
        }
      ]
    },
    {
      "cell_type": "code",
      "metadata": {
        "colab": {
          "base_uri": "https://localhost:8080/"
        },
        "id": "qr0q6s_M1cvy",
        "outputId": "ce7b84a3-3a16-4be4-c5dc-73ebebfb2064"
      },
      "source": [
        "train.shape"
      ],
      "execution_count": null,
      "outputs": [
        {
          "output_type": "execute_result",
          "data": {
            "text/plain": [
              "(40000, 8)"
            ]
          },
          "metadata": {
            "tags": []
          },
          "execution_count": 71
        }
      ]
    },
    {
      "cell_type": "code",
      "metadata": {
        "colab": {
          "base_uri": "https://localhost:8080/"
        },
        "id": "gp04TQ2s0WYy",
        "outputId": "a84f707f-492b-4235-efdd-a7a125124eab"
      },
      "source": [
        "train['new_sentiment'].value_counts()"
      ],
      "execution_count": null,
      "outputs": [
        {
          "output_type": "execute_result",
          "data": {
            "text/plain": [
              "neutral     12668\n",
              "positive     9897\n",
              "negative     8830\n",
              "Name: new_sentiment, dtype: int64"
            ]
          },
          "metadata": {
            "tags": []
          },
          "execution_count": 72
        }
      ]
    },
    {
      "cell_type": "code",
      "metadata": {
        "colab": {
          "base_uri": "https://localhost:8080/",
          "height": 206
        },
        "id": "O-GCfiRi0WbZ",
        "outputId": "26d03230-26ff-4b14-f567-e6846bc43dcb"
      },
      "source": [
        "train = train[['selected_text', 'new_sentiment']]\n",
        "train.head()"
      ],
      "execution_count": null,
      "outputs": [
        {
          "output_type": "execute_result",
          "data": {
            "text/plain": [
              "                                                             selected_text  \\\n",
              "0                                                                      NaN   \n",
              "1                                                                 headache   \n",
              "2                                                                   gloomy   \n",
              "3                                     wants to hang out with friends SOON!   \n",
              "4  We want to trade with someone who has Houston tickets, but no one will.   \n",
              "\n",
              "  new_sentiment  \n",
              "0           NaN  \n",
              "1      negative  \n",
              "2      negative  \n",
              "3      positive  \n",
              "4       neutral  "
            ],
            "text/html": [
              "<div>\n",
              "<style scoped>\n",
              "    .dataframe tbody tr th:only-of-type {\n",
              "        vertical-align: middle;\n",
              "    }\n",
              "\n",
              "    .dataframe tbody tr th {\n",
              "        vertical-align: top;\n",
              "    }\n",
              "\n",
              "    .dataframe thead th {\n",
              "        text-align: right;\n",
              "    }\n",
              "</style>\n",
              "<table border=\"1\" class=\"dataframe\">\n",
              "  <thead>\n",
              "    <tr style=\"text-align: right;\">\n",
              "      <th></th>\n",
              "      <th>selected_text</th>\n",
              "      <th>new_sentiment</th>\n",
              "    </tr>\n",
              "  </thead>\n",
              "  <tbody>\n",
              "    <tr>\n",
              "      <th>0</th>\n",
              "      <td>NaN</td>\n",
              "      <td>NaN</td>\n",
              "    </tr>\n",
              "    <tr>\n",
              "      <th>1</th>\n",
              "      <td>headache</td>\n",
              "      <td>negative</td>\n",
              "    </tr>\n",
              "    <tr>\n",
              "      <th>2</th>\n",
              "      <td>gloomy</td>\n",
              "      <td>negative</td>\n",
              "    </tr>\n",
              "    <tr>\n",
              "      <th>3</th>\n",
              "      <td>wants to hang out with friends SOON!</td>\n",
              "      <td>positive</td>\n",
              "    </tr>\n",
              "    <tr>\n",
              "      <th>4</th>\n",
              "      <td>We want to trade with someone who has Houston tickets, but no one will.</td>\n",
              "      <td>neutral</td>\n",
              "    </tr>\n",
              "  </tbody>\n",
              "</table>\n",
              "</div>"
            ]
          },
          "metadata": {
            "tags": []
          },
          "execution_count": 73
        }
      ]
    },
    {
      "cell_type": "code",
      "metadata": {
        "colab": {
          "base_uri": "https://localhost:8080/"
        },
        "id": "-x5JmXVn22gh",
        "outputId": "a60bf109-db02-4ecf-896a-30d22a9f430e"
      },
      "source": [
        "df_train = train.dropna(subset=['new_sentiment'])\n",
        "len(df_train)"
      ],
      "execution_count": null,
      "outputs": [
        {
          "output_type": "execute_result",
          "data": {
            "text/plain": [
              "31395"
            ]
          },
          "metadata": {
            "tags": []
          },
          "execution_count": 74
        }
      ]
    },
    {
      "cell_type": "code",
      "metadata": {
        "colab": {
          "base_uri": "https://localhost:8080/"
        },
        "id": "zQVQU0FC66aO",
        "outputId": "d5079068-00ec-49c3-c5c5-cfd06ab1342c"
      },
      "source": [
        "df_train = df_train.dropna(subset=['selected_text'])\n",
        "len(df_train)"
      ],
      "execution_count": null,
      "outputs": [
        {
          "output_type": "execute_result",
          "data": {
            "text/plain": [
              "27767"
            ]
          },
          "metadata": {
            "tags": []
          },
          "execution_count": 75
        }
      ]
    },
    {
      "cell_type": "code",
      "metadata": {
        "colab": {
          "base_uri": "https://localhost:8080/",
          "height": 363
        },
        "id": "Snfin-bV0WeB",
        "outputId": "8c53a5b8-2073-4a9a-d09f-3b318e8325d4"
      },
      "source": [
        "df_train.head(10)"
      ],
      "execution_count": null,
      "outputs": [
        {
          "output_type": "execute_result",
          "data": {
            "text/plain": [
              "                                                              selected_text  \\\n",
              "1                                                                  headache   \n",
              "2                                                                    gloomy   \n",
              "3                                      wants to hang out with friends SOON!   \n",
              "4   We want to trade with someone who has Houston tickets, but no one will.   \n",
              "5                                                            didn`t like my   \n",
              "8                                              Charlene my love. I miss you   \n",
              "10                                                         cant fall asleep   \n",
              "11                                                  Choked on her retainers   \n",
              "12                                                                     Ugh!   \n",
              "13                                                    realise what tourture   \n",
              "\n",
              "   new_sentiment  \n",
              "1       negative  \n",
              "2       negative  \n",
              "3       positive  \n",
              "4        neutral  \n",
              "5       negative  \n",
              "8       negative  \n",
              "10       neutral  \n",
              "11      negative  \n",
              "12      negative  \n",
              "13      negative  "
            ],
            "text/html": [
              "<div>\n",
              "<style scoped>\n",
              "    .dataframe tbody tr th:only-of-type {\n",
              "        vertical-align: middle;\n",
              "    }\n",
              "\n",
              "    .dataframe tbody tr th {\n",
              "        vertical-align: top;\n",
              "    }\n",
              "\n",
              "    .dataframe thead th {\n",
              "        text-align: right;\n",
              "    }\n",
              "</style>\n",
              "<table border=\"1\" class=\"dataframe\">\n",
              "  <thead>\n",
              "    <tr style=\"text-align: right;\">\n",
              "      <th></th>\n",
              "      <th>selected_text</th>\n",
              "      <th>new_sentiment</th>\n",
              "    </tr>\n",
              "  </thead>\n",
              "  <tbody>\n",
              "    <tr>\n",
              "      <th>1</th>\n",
              "      <td>headache</td>\n",
              "      <td>negative</td>\n",
              "    </tr>\n",
              "    <tr>\n",
              "      <th>2</th>\n",
              "      <td>gloomy</td>\n",
              "      <td>negative</td>\n",
              "    </tr>\n",
              "    <tr>\n",
              "      <th>3</th>\n",
              "      <td>wants to hang out with friends SOON!</td>\n",
              "      <td>positive</td>\n",
              "    </tr>\n",
              "    <tr>\n",
              "      <th>4</th>\n",
              "      <td>We want to trade with someone who has Houston tickets, but no one will.</td>\n",
              "      <td>neutral</td>\n",
              "    </tr>\n",
              "    <tr>\n",
              "      <th>5</th>\n",
              "      <td>didn`t like my</td>\n",
              "      <td>negative</td>\n",
              "    </tr>\n",
              "    <tr>\n",
              "      <th>8</th>\n",
              "      <td>Charlene my love. I miss you</td>\n",
              "      <td>negative</td>\n",
              "    </tr>\n",
              "    <tr>\n",
              "      <th>10</th>\n",
              "      <td>cant fall asleep</td>\n",
              "      <td>neutral</td>\n",
              "    </tr>\n",
              "    <tr>\n",
              "      <th>11</th>\n",
              "      <td>Choked on her retainers</td>\n",
              "      <td>negative</td>\n",
              "    </tr>\n",
              "    <tr>\n",
              "      <th>12</th>\n",
              "      <td>Ugh!</td>\n",
              "      <td>negative</td>\n",
              "    </tr>\n",
              "    <tr>\n",
              "      <th>13</th>\n",
              "      <td>realise what tourture</td>\n",
              "      <td>negative</td>\n",
              "    </tr>\n",
              "  </tbody>\n",
              "</table>\n",
              "</div>"
            ]
          },
          "metadata": {
            "tags": []
          },
          "execution_count": 76
        }
      ]
    },
    {
      "cell_type": "markdown",
      "metadata": {
        "id": "4QbiYUfH72wC"
      },
      "source": [
        "### Data Cleaning"
      ]
    },
    {
      "cell_type": "code",
      "metadata": {
        "colab": {
          "base_uri": "https://localhost:8080/"
        },
        "id": "0FiWJQLJ0WjA",
        "outputId": "d6706f63-8c06-4ed3-faab-26a4f0b3759b"
      },
      "source": [
        "import re\n",
        "\n",
        "def depure_data(data):\n",
        "    \n",
        "    #Removing URLs with a regular expression\n",
        "    url_pattern = re.compile(r'https?://\\S+|www\\.\\S+')\n",
        "    data = url_pattern.sub(r'', data)\n",
        "\n",
        "    # Remove Emails\n",
        "    data = re.sub('\\S*@\\S*\\s?', '', data)\n",
        "\n",
        "    # Remove new line characters\n",
        "    data = re.sub('\\s+', ' ', data)\n",
        "\n",
        "    # Remove distracting single quotes\n",
        "    data = re.sub(\"\\'\", \"\", data)\n",
        "        \n",
        "    return data\n",
        "\n",
        "temp = []\n",
        "#Splitting pd.Series to list\n",
        "data_to_list = df_train['selected_text'].values.tolist()\n",
        "for i in range(len(data_to_list)):\n",
        "    temp.append(depure_data(data_to_list[i]))\n",
        "list(temp[:5])"
      ],
      "execution_count": null,
      "outputs": [
        {
          "output_type": "execute_result",
          "data": {
            "text/plain": [
              "['headache',\n",
              " 'gloomy',\n",
              " 'wants to hang out with friends SOON!',\n",
              " 'We want to trade with someone who has Houston tickets, but no one will.',\n",
              " 'didn`t like my']"
            ]
          },
          "metadata": {
            "tags": []
          },
          "execution_count": 77
        }
      ]
    },
    {
      "cell_type": "code",
      "metadata": {
        "colab": {
          "base_uri": "https://localhost:8080/"
        },
        "id": "SzeGsdPe8Z-F",
        "outputId": "1c815db1-4472-4b91-d56f-b8c0a1b91566"
      },
      "source": [
        "def sent_to_words(sentences):\n",
        "    for sentence in sentences:\n",
        "        yield(gensim.utils.simple_preprocess(str(sentence), deacc=True))  # deacc=True removes punctuations\n",
        "        \n",
        "\n",
        "data_words = list(sent_to_words(temp))\n",
        "\n",
        "print(data_words[:10])"
      ],
      "execution_count": null,
      "outputs": [
        {
          "output_type": "stream",
          "text": [
            "[['headache'], ['gloomy'], ['wants', 'to', 'hang', 'out', 'with', 'friends', 'soon'], ['we', 'want', 'to', 'trade', 'with', 'someone', 'who', 'has', 'houston', 'tickets', 'but', 'no', 'one', 'will'], ['didn', 'like', 'my'], ['charlene', 'my', 'love', 'miss', 'you'], ['cant', 'fall', 'asleep'], ['choked', 'on', 'her', 'retainers'], ['ugh'], ['realise', 'what', 'tourture']]\n"
          ],
          "name": "stdout"
        }
      ]
    },
    {
      "cell_type": "code",
      "metadata": {
        "colab": {
          "base_uri": "https://localhost:8080/"
        },
        "id": "U8RaSccLEM1k",
        "outputId": "9c55dc04-5934-4337-f7f8-8f26899360f1"
      },
      "source": [
        "data = []\n",
        "for i in range(len(data_words)):\n",
        "    data.append(TreebankWordDetokenizer().detokenize(data_words[i]))\n",
        "print(data[:10])"
      ],
      "execution_count": null,
      "outputs": [
        {
          "output_type": "stream",
          "text": [
            "['headache', 'gloomy', 'wants to hang out with friends soon', 'we want to trade with someone who has houston tickets but no one will', 'didn like my', 'charlene my love miss you', 'cant fall asleep', 'choked on her retainers', 'ugh', 'realise what tourture']\n"
          ],
          "name": "stdout"
        }
      ]
    },
    {
      "cell_type": "code",
      "metadata": {
        "id": "OnNcd_H4EM4K"
      },
      "source": [
        "data = np.array(data)"
      ],
      "execution_count": null,
      "outputs": []
    },
    {
      "cell_type": "markdown",
      "metadata": {
        "id": "A3t1MEZiEiQI"
      },
      "source": [
        "### Label Encoding"
      ]
    },
    {
      "cell_type": "code",
      "metadata": {
        "id": "yVqTK_eLEM7N"
      },
      "source": [
        "labels = np.array(df_train['new_sentiment'])\n",
        "y = []\n",
        "for i in range(len(labels)):\n",
        "    if labels[i] == 'neutral':\n",
        "        y.append(0)\n",
        "    if labels[i] == 'negative':\n",
        "        y.append(1)\n",
        "    if labels[i] == 'positive':\n",
        "        y.append(2)\n",
        "y = np.array(y)\n",
        "labels = tf.keras.utils.to_categorical(y, 3, dtype=\"float32\")\n",
        "del y"
      ],
      "execution_count": null,
      "outputs": []
    },
    {
      "cell_type": "code",
      "metadata": {
        "colab": {
          "base_uri": "https://localhost:8080/"
        },
        "id": "bTQR7zx4EM-F",
        "outputId": "d049a826-12c2-425e-9c42-a8631f8bb5eb"
      },
      "source": [
        "labels"
      ],
      "execution_count": null,
      "outputs": [
        {
          "output_type": "execute_result",
          "data": {
            "text/plain": [
              "array([[0., 1., 0.],\n",
              "       [0., 1., 0.],\n",
              "       [0., 0., 1.],\n",
              "       ...,\n",
              "       [0., 0., 1.],\n",
              "       [1., 0., 0.],\n",
              "       [1., 0., 0.]], dtype=float32)"
            ]
          },
          "metadata": {
            "tags": []
          },
          "execution_count": 82
        }
      ]
    },
    {
      "cell_type": "markdown",
      "metadata": {
        "id": "uoK0lpZQHZNs"
      },
      "source": [
        "### Data Sequencing"
      ]
    },
    {
      "cell_type": "code",
      "metadata": {
        "colab": {
          "base_uri": "https://localhost:8080/"
        },
        "id": "_tAAKHXiENDS",
        "outputId": "1fd07c64-c623-4640-bf55-356f25ec7d89"
      },
      "source": [
        "from keras.models import Sequential\n",
        "from keras import layers\n",
        "from keras.optimizers import RMSprop,Adam\n",
        "from keras.preprocessing.text import Tokenizer\n",
        "from keras.preprocessing.sequence import pad_sequences\n",
        "from keras import regularizers\n",
        "from keras import backend as K\n",
        "from keras.callbacks import ModelCheckpoint\n",
        "max_words = 5000\n",
        "max_len = 200\n",
        "\n",
        "tokenizer = Tokenizer(num_words=max_words)\n",
        "tokenizer.fit_on_texts(data)\n",
        "sequences = tokenizer.texts_to_sequences(data)\n",
        "tweets = pad_sequences(sequences, maxlen=max_len)\n",
        "print(tweets)"
      ],
      "execution_count": null,
      "outputs": [
        {
          "output_type": "stream",
          "text": [
            "[[   0    0    0 ...    0    0  323]\n",
            " [   0    0    0 ...    0    0 1639]\n",
            " [   0    0    0 ...   22  238  158]\n",
            " ...\n",
            " [   0    0    0 ...   26  128   20]\n",
            " [   0    0    0 ...    8    2  498]\n",
            " [   0    0    0 ... 1442 1076   37]]\n"
          ],
          "name": "stdout"
        }
      ]
    },
    {
      "cell_type": "markdown",
      "metadata": {
        "id": "gvMPTUqEIFGx"
      },
      "source": [
        "### Splitting the data"
      ]
    },
    {
      "cell_type": "code",
      "metadata": {
        "colab": {
          "base_uri": "https://localhost:8080/"
        },
        "id": "jK1HsT30ENFw",
        "outputId": "4fc23640-b5fd-460d-f63e-00513dbd8451"
      },
      "source": [
        "X_train, X_test, y_train, y_test = train_test_split(tweets,labels, test_size=0.15,random_state=0)\n",
        "print (len(X_train),len(X_test),len(y_train),len(y_test))"
      ],
      "execution_count": null,
      "outputs": [
        {
          "output_type": "stream",
          "text": [
            "23601 4166 23601 4166\n"
          ],
          "name": "stdout"
        }
      ]
    },
    {
      "cell_type": "markdown",
      "metadata": {
        "id": "qSjJnHkWIShb"
      },
      "source": [
        "### Building a Model"
      ]
    },
    {
      "cell_type": "code",
      "metadata": {
        "colab": {
          "base_uri": "https://localhost:8080/"
        },
        "id": "AuqrcEi7INVb",
        "outputId": "456ca6ac-0340-4551-d62c-5b055a181112"
      },
      "source": [
        "model1 = Sequential()\n",
        "model1.add(layers.Embedding(max_words, 20))\n",
        "model1.add(layers.LSTM(15,dropout=0.5))\n",
        "model1.add(layers.Dense(3,activation='softmax'))\n",
        "\n",
        "model1.compile(optimizer='rmsprop',loss='categorical_crossentropy', metrics=['accuracy'])\n",
        "#Implementing model checkpoins to save the best metric and do not lose it on training.\n",
        "checkpoint1 = ModelCheckpoint(\"best_model1.hdf5\", monitor='val_accuracy', verbose=1,save_best_only=True, mode='auto', period=1,save_weights_only=False)\n",
        "history = model1.fit(X_train, y_train, epochs=1,validation_data=(X_test, y_test),callbacks=[checkpoint1])"
      ],
      "execution_count": null,
      "outputs": [
        {
          "output_type": "stream",
          "text": [
            "Train on 23601 samples, validate on 4166 samples\n",
            "Epoch 1/1\n",
            "23601/23601 [==============================] - 62s 3ms/step - loss: 0.8051 - accuracy: 0.6551 - val_loss: 0.6332 - val_accuracy: 0.7679\n",
            "\n",
            "Epoch 00001: val_accuracy improved from -inf to 0.76788, saving model to best_model1.hdf5\n"
          ],
          "name": "stdout"
        }
      ]
    },
    {
      "cell_type": "code",
      "metadata": {
        "colab": {
          "base_uri": "https://localhost:8080/"
        },
        "id": "IRqc_bd3Imz7",
        "outputId": "170765a3-08c1-45cf-d6c6-baa9b5d27660"
      },
      "source": [
        "model2 = Sequential()\n",
        "model2.add(layers.Embedding(max_words, 40, input_length=max_len))\n",
        "model2.add(layers.Bidirectional(layers.LSTM(20,dropout=0.6)))\n",
        "model2.add(layers.Dense(3,activation='softmax'))\n",
        "model2.compile(optimizer='rmsprop',loss='categorical_crossentropy', metrics=['accuracy'])\n",
        "#Implementing model checkpoins to save the best metric and do not lose it on training.\n",
        "#model2 = keras.models.load_model('./best_model2.hdf5')\n",
        "checkpoint2 = ModelCheckpoint(\"best_model2.hdf5\", monitor='val_accuracy', verbose=1,save_best_only=True, mode='auto', period=1,save_weights_only=False)\n",
        "history = model2.fit(X_train, y_train, epochs=1,validation_data=(X_test, y_test),callbacks=[checkpoint2])"
      ],
      "execution_count": null,
      "outputs": [
        {
          "output_type": "stream",
          "text": [
            "Train on 23601 samples, validate on 4166 samples\n",
            "Epoch 1/1\n",
            "23601/23601 [==============================] - 78s 3ms/step - loss: 0.7810 - accuracy: 0.6576 - val_loss: 0.6062 - val_accuracy: 0.7655\n",
            "\n",
            "Epoch 00001: val_accuracy improved from -inf to 0.76548, saving model to best_model2.hdf5\n"
          ],
          "name": "stdout"
        }
      ]
    },
    {
      "cell_type": "code",
      "metadata": {
        "colab": {
          "base_uri": "https://localhost:8080/"
        },
        "id": "DFYGR-jxJRrT",
        "outputId": "e147c1f7-837d-41e7-88aa-d15dfd4b7214"
      },
      "source": [
        "model3 = Sequential()\n",
        "model3.add(layers.Embedding(max_words, 40, input_length=max_len))\n",
        "model3.add(layers.Conv1D(20, 6, activation='relu',kernel_regularizer=regularizers.l1_l2(l1=2e-3, l2=2e-3),bias_regularizer=regularizers.l2(2e-3)))\n",
        "model3.add(layers.MaxPooling1D(5))\n",
        "model3.add(layers.Conv1D(20, 6, activation='relu',kernel_regularizer=regularizers.l1_l2(l1=2e-3, l2=2e-3),bias_regularizer=regularizers.l2(2e-3)))\n",
        "model3.add(layers.GlobalMaxPooling1D())\n",
        "model3.add(layers.Dense(3,activation='softmax'))\n",
        "model3.compile(optimizer='rmsprop',loss='categorical_crossentropy',metrics=['acc'])\n",
        "checkpoint3 = ModelCheckpoint(\"best_model3.hdf5\", monitor='val_accuracy', verbose=1,save_best_only=True, mode='auto', period=1,save_weights_only=False)\n",
        "history = model3.fit(X_train, y_train, epochs=1,validation_data=(X_test, y_test),callbacks=[checkpoint3])"
      ],
      "execution_count": null,
      "outputs": [
        {
          "output_type": "stream",
          "text": [
            "WARNING:tensorflow:From C:\\Anaconda\\lib\\site-packages\\keras\\backend\\tensorflow_backend.py:4070: The name tf.nn.max_pool is deprecated. Please use tf.nn.max_pool2d instead.\n",
            "\n",
            "Train on 23546 samples, validate on 7849 samples\n",
            "Epoch 1/1\n",
            "23546/23546 [==============================] - 9s 381us/step - loss: 1.0384 - acc: 0.5540 - val_loss: 0.9120 - val_acc: 0.5825\n"
          ],
          "name": "stdout"
        }
      ]
    },
    {
      "cell_type": "markdown",
      "metadata": {
        "id": "jtvAsoMhLcPi"
      },
      "source": [
        "### Selecting a Model"
      ]
    },
    {
      "cell_type": "markdown",
      "metadata": {
        "id": "K2KfIJFpMcX5"
      },
      "source": [
        ""
      ]
    },
    {
      "cell_type": "code",
      "metadata": {
        "colab": {
          "base_uri": "https://localhost:8080/"
        },
        "id": "DPUlm2jsLfGq",
        "outputId": "dafc13f9-439d-446a-d3c2-fea9403eee6b"
      },
      "source": [
        "best_model = keras.models.load_model(\"./best_model2.hdf5\")\n",
        "test_loss, test_acc = best_model.evaluate(X_test, y_test, verbose=2)\n",
        "print('Model accuracy: ',test_acc)"
      ],
      "execution_count": null,
      "outputs": [
        {
          "output_type": "stream",
          "text": [
            "Model accuracy:  0.765482485294342\n"
          ],
          "name": "stdout"
        }
      ]
    },
    {
      "cell_type": "code",
      "metadata": {
        "id": "-st8gc74LggD"
      },
      "source": [
        "predictions = best_model.predict(X_test)"
      ],
      "execution_count": null,
      "outputs": []
    },
    {
      "cell_type": "code",
      "metadata": {
        "colab": {
          "base_uri": "https://localhost:8080/",
          "height": 357
        },
        "id": "VXrcGlynLgi3",
        "outputId": "b03edbe0-b24b-4bfa-f9c9-2ba6549c2f08"
      },
      "source": [
        "print(\"Confusion Matrix for Training Data:\")\n",
        "matrix = confusion_matrix(y_test.argmax(axis=1), np.around(predictions, decimals=0).argmax(axis=1))\n",
        "conf_matrix = pd.DataFrame(matrix, index = ['Neutral','Negative','Positive'],columns = ['Predicted_Neutral','Predicted_Negative','Predicted_Positive'])\n",
        "plt.figure(figsize=(7,5))\n",
        "seaborn.heatmap(conf_matrix, annot=True)"
      ],
      "execution_count": null,
      "outputs": [
        {
          "output_type": "stream",
          "text": [
            "Confusion Matrix for Training Data:\n"
          ],
          "name": "stdout"
        },
        {
          "output_type": "execute_result",
          "data": {
            "text/plain": [
              "<AxesSubplot:>"
            ]
          },
          "metadata": {
            "tags": []
          },
          "execution_count": 106
        },
        {
          "output_type": "display_data",
          "data": {
            "text/plain": [
              "<Figure size 504x360 with 2 Axes>"
            ],
            "image/png": "[encoded data removed]"
          },
          "metadata": {
            "tags": [],
            "needs_background": "light"
          }
        }
      ]
    },
    {
      "cell_type": "code",
      "metadata": {
        "colab": {
          "base_uri": "https://localhost:8080/",
          "height": 339
        },
        "id": "vTMyQ26YLglR",
        "outputId": "41ddbade-2832-4260-a7d2-9ea8e04b89a9"
      },
      "source": [
        "conf_matrix = conf_matrix.astype('float') / conf_matrix.sum(axis=1)[:, np.newaxis]\n",
        "plt.figure(figsize = (7,5))\n",
        "seaborn.heatmap(conf_matrix, annot=True)"
      ],
      "execution_count": null,
      "outputs": [
        {
          "output_type": "execute_result",
          "data": {
            "text/plain": [
              "<AxesSubplot:>"
            ]
          },
          "metadata": {
            "tags": []
          },
          "execution_count": 107
        },
        {
          "output_type": "display_data",
          "data": {
            "text/plain": [
              "<Figure size 504x360 with 2 Axes>"
            ],
            "image/png": "[encoded data removed]"
          },
          "metadata": {
            "tags": [],
            "needs_background": "light"
          }
        }
      ]
    },
    {
      "cell_type": "markdown",
      "metadata": {
        "id": "AYDp08h8OycH"
      },
      "source": [
        "## Applying the model to vaccination tweets"
      ]
    },
    {
      "cell_type": "code",
      "metadata": {
        "colab": {
          "base_uri": "https://localhost:8080/",
          "height": 1000
        },
        "id": "MAiiM83-Lgn6",
        "outputId": "bc35994a-cc5d-481e-eb08-1093a1b427d5"
      },
      "source": [
        "df_tweets = pd.read_csv('vaccination_all_tweets.csv')\n",
        "df_tweets.head(10)"
      ],
      "execution_count": null,
      "outputs": [
        {
          "output_type": "execute_result",
          "data": {
            "text/plain": [
              "                    id             user_name                user_location  \\\n",
              "0  1340539111971516416            Rachel Roh    La Crescenta-Montrose, CA   \n",
              "1  1338158543359250433           Albert Fong            San Francisco, CA   \n",
              "2  1337858199140118533              eli🇱🇹🇪🇺👌                     Your Bed   \n",
              "3  1337855739918835717         Charles Adler       Vancouver, BC - Canada   \n",
              "4  1337854064604966912  Citizen News Channel                          NaN   \n",
              "5  1337852648389832708                   Dee          Birmingham, England   \n",
              "6  1337851215875608579     Gunther Fehlinger  Austria, Ukraine and Kosovo   \n",
              "7  1337850832256176136   Dr.Krutika Kuppalli                          NaN   \n",
              "8  1337850023531347969           Erin Despas                          NaN   \n",
              "9  1337842295857623042          Ch.Amjad Ali                    Islamabad   \n",
              "\n",
              "                                                                                                                                                   user_description  \\\n",
              "0                                                  Aggregator of Asian American news; scanning diverse sources 24/7/365. RT's, Follows and 'Likes' will fuel me 👩‍💻   \n",
              "1                           Marketing dude, tech geek, heavy metal & '80s music junkie. Fascinated by meteorology and all things in the cloud. Opinions are my own.   \n",
              "2                                                                                                                                                    heil, hydra 🖐☺   \n",
              "3                 Hosting \"CharlesAdlerTonight\" Global News Radio Network. Weeknights 7 Pacific-10 Eastern - Email comments/ideas to charles@charlesadlertonight.ca   \n",
              "4                               Citizen News Channel bringing you an alternative news source from citizen journalists that haven't sold out. Real news & real views   \n",
              "5                                                      Gastroenterology trainee, Clinical Research Fellow in IBD, mother to human and fur baby, Canadian in Britain   \n",
              "6  End North Stream 2 now - the pipeline of corruption, funding Russias war against Ukraine,Georgia, Syria and political intervention in USA and EU must be stopped   \n",
              "7                  ID, Global Health, VHF, Pandemic Prep, Emerging Infections, & Health Policy MD| U.S. Congress COVID-19 expert witness x 2 | ELBI 2020 @JHSPH_CHS   \n",
              "8                  Designing&selling on Teespring. Like 90s Disney tv movies, old school WWE. Dislikes Intolerance, hate, bigots and snakes https://t.co/fa5n4gEHgR   \n",
              "9                                       #ProudPakistani #LovePakArmy #PMIK @insafianspower1\\n#PoliticalScience #InternationalAffairs \\n#PAKUSTV #Newyork #Islamabad   \n",
              "\n",
              "          user_created  user_followers  user_friends  user_favourites  \\\n",
              "0  2009-04-08 17:52:46             405          1692             3247   \n",
              "1  2009-09-21 15:27:30             834           666              178   \n",
              "2  2020-06-25 23:30:28              10            88              155   \n",
              "3  2008-09-10 11:28:53           49165          3933            21853   \n",
              "4  2020-04-23 17:58:42             152           580             1473   \n",
              "5  2020-01-26 21:43:12             105           108              106   \n",
              "6  2013-06-10 17:49:22            2731          5001            69344   \n",
              "7  2019-03-25 04:14:29           21924           593             7815   \n",
              "8  2009-10-30 17:53:54             887          1515             9639   \n",
              "9  2012-11-12 04:18:12             671          2368            20469   \n",
              "\n",
              "   user_verified                 date  \\\n",
              "0          False  2020-12-20 06:06:44   \n",
              "1          False  2020-12-13 16:27:13   \n",
              "2          False  2020-12-12 20:33:45   \n",
              "3           True  2020-12-12 20:23:59   \n",
              "4          False  2020-12-12 20:17:19   \n",
              "5          False  2020-12-12 20:11:42   \n",
              "6          False  2020-12-12 20:06:00   \n",
              "7           True  2020-12-12 20:04:29   \n",
              "8          False  2020-12-12 20:01:16   \n",
              "9          False  2020-12-12 19:30:33   \n",
              "\n",
              "                                                                                                                                             text  \\\n",
              "0                                               Same folks said daikon paste could treat a cytokine storm #PfizerBioNTech https://t.co/xeHhIMg1kF   \n",
              "1    While the world has been on the wrong side of history this year, hopefully, the biggest vaccination effort we've ev… https://t.co/dlCHrZjkhm   \n",
              "2    #coronavirus #SputnikV #AstraZeneca #PfizerBioNTech #Moderna #Covid_19 Russian vaccine is created to last 2-4 years… https://t.co/ieYlCKBr8P   \n",
              "3    Facts are immutable, Senator, even when you're not ethically sturdy enough to acknowledge them. (1) You were born i… https://t.co/jqgV18kch4   \n",
              "4         Explain to me again why we need a vaccine @BorisJohnson @MattHancock #whereareallthesickpeople #PfizerBioNTech… https://t.co/KxbSRoBEHq   \n",
              "5                Does anyone have any useful advice/guidance for whether the COVID vaccine is safe whilst breastfeeding?… https://t.co/EifsyQoeKN   \n",
              "6     it is a bit sad to claim the fame for success of #vaccination on patriotic competition between USA, Canada, UK and… https://t.co/IfMrAyGyTP   \n",
              "7     There have not been many bright days in 2020 but here are some of the best \\n1. #BidenHarris winning #Election2020… https://t.co/77u4f8XXfx   \n",
              "8                                                              Covid vaccine; You getting it?\\n\\n #CovidVaccine #covid19 #PfizerBioNTech #Moderna   \n",
              "9  #CovidVaccine \\n\\nStates will start getting #COVID19Vaccine Monday, #US says \\n#pakustv #NYC #Healthcare #GlobalGoals… https://t.co/MksOvBvs5w   \n",
              "\n",
              "                                                                                  hashtags  \\\n",
              "0                                                                       ['PfizerBioNTech']   \n",
              "1                                                                                      NaN   \n",
              "2      ['coronavirus', 'SputnikV', 'AstraZeneca', 'PfizerBioNTech', 'Moderna', 'Covid_19']   \n",
              "3                                                                                      NaN   \n",
              "4                                           ['whereareallthesickpeople', 'PfizerBioNTech']   \n",
              "5                                                                                      NaN   \n",
              "6                                                                          ['vaccination']   \n",
              "7                                                          ['BidenHarris', 'Election2020']   \n",
              "8                                 ['CovidVaccine', 'covid19', 'PfizerBioNTech', 'Moderna']   \n",
              "9  ['CovidVaccine', 'COVID19Vaccine', 'US', 'pakustv', 'NYC', 'Healthcare', 'GlobalGoals']   \n",
              "\n",
              "                source  retweets  favorites  is_retweet  \n",
              "0  Twitter for Android         0          0       False  \n",
              "1      Twitter Web App         1          1       False  \n",
              "2  Twitter for Android         0          0       False  \n",
              "3      Twitter Web App       446       2129       False  \n",
              "4   Twitter for iPhone         0          0       False  \n",
              "5   Twitter for iPhone         0          0       False  \n",
              "6      Twitter Web App         0          4       False  \n",
              "7   Twitter for iPhone         2         22       False  \n",
              "8      Twitter Web App         2          1       False  \n",
              "9      Twitter Web App         0          0       False  "
            ],
            "text/html": [
              "<div>\n",
              "<style scoped>\n",
              "    .dataframe tbody tr th:only-of-type {\n",
              "        vertical-align: middle;\n",
              "    }\n",
              "\n",
              "    .dataframe tbody tr th {\n",
              "        vertical-align: top;\n",
              "    }\n",
              "\n",
              "    .dataframe thead th {\n",
              "        text-align: right;\n",
              "    }\n",
              "</style>\n",
              "<table border=\"1\" class=\"dataframe\">\n",
              "  <thead>\n",
              "    <tr style=\"text-align: right;\">\n",
              "      <th></th>\n",
              "      <th>id</th>\n",
              "      <th>user_name</th>\n",
              "      <th>user_location</th>\n",
              "      <th>user_description</th>\n",
              "      <th>user_created</th>\n",
              "      <th>user_followers</th>\n",
              "      <th>user_friends</th>\n",
              "      <th>user_favourites</th>\n",
              "      <th>user_verified</th>\n",
              "      <th>date</th>\n",
              "      <th>text</th>\n",
              "      <th>hashtags</th>\n",
              "      <th>source</th>\n",
              "      <th>retweets</th>\n",
              "      <th>favorites</th>\n",
              "      <th>is_retweet</th>\n",
              "    </tr>\n",
              "  </thead>\n",
              "  <tbody>\n",
              "    <tr>\n",
              "      <th>0</th>\n",
              "      <td>1340539111971516416</td>\n",
              "      <td>Rachel Roh</td>\n",
              "      <td>La Crescenta-Montrose, CA</td>\n",
              "      <td>Aggregator of Asian American news; scanning diverse sources 24/7/365. RT's, Follows and 'Likes' will fuel me 👩‍💻</td>\n",
              "      <td>2009-04-08 17:52:46</td>\n",
              "      <td>405</td>\n",
              "      <td>1692</td>\n",
              "      <td>3247</td>\n",
              "      <td>False</td>\n",
              "      <td>2020-12-20 06:06:44</td>\n",
              "      <td>Same folks said daikon paste could treat a cytokine storm #PfizerBioNTech https://t.co/xeHhIMg1kF</td>\n",
              "      <td>['PfizerBioNTech']</td>\n",
              "      <td>Twitter for Android</td>\n",
              "      <td>0</td>\n",
              "      <td>0</td>\n",
              "      <td>False</td>\n",
              "    </tr>\n",
              "    <tr>\n",
              "      <th>1</th>\n",
              "      <td>1338158543359250433</td>\n",
              "      <td>Albert Fong</td>\n",
              "      <td>San Francisco, CA</td>\n",
              "      <td>Marketing dude, tech geek, heavy metal &amp; '80s music junkie. Fascinated by meteorology and all things in the cloud. Opinions are my own.</td>\n",
              "      <td>2009-09-21 15:27:30</td>\n",
              "      <td>834</td>\n",
              "      <td>666</td>\n",
              "      <td>178</td>\n",
              "      <td>False</td>\n",
              "      <td>2020-12-13 16:27:13</td>\n",
              "      <td>While the world has been on the wrong side of history this year, hopefully, the biggest vaccination effort we've ev… https://t.co/dlCHrZjkhm</td>\n",
              "      <td>NaN</td>\n",
              "      <td>Twitter Web App</td>\n",
              "      <td>1</td>\n",
              "      <td>1</td>\n",
              "      <td>False</td>\n",
              "    </tr>\n",
              "    <tr>\n",
              "      <th>2</th>\n",
              "      <td>1337858199140118533</td>\n",
              "      <td>eli🇱🇹🇪🇺👌</td>\n",
              "      <td>Your Bed</td>\n",
              "      <td>heil, hydra 🖐☺</td>\n",
              "      <td>2020-06-25 23:30:28</td>\n",
              "      <td>10</td>\n",
              "      <td>88</td>\n",
              "      <td>155</td>\n",
              "      <td>False</td>\n",
              "      <td>2020-12-12 20:33:45</td>\n",
              "      <td>#coronavirus #SputnikV #AstraZeneca #PfizerBioNTech #Moderna #Covid_19 Russian vaccine is created to last 2-4 years… https://t.co/ieYlCKBr8P</td>\n",
              "      <td>['coronavirus', 'SputnikV', 'AstraZeneca', 'PfizerBioNTech', 'Moderna', 'Covid_19']</td>\n",
              "      <td>Twitter for Android</td>\n",
              "      <td>0</td>\n",
              "      <td>0</td>\n",
              "      <td>False</td>\n",
              "    </tr>\n",
              "    <tr>\n",
              "      <th>3</th>\n",
              "      <td>1337855739918835717</td>\n",
              "      <td>Charles Adler</td>\n",
              "      <td>Vancouver, BC - Canada</td>\n",
              "      <td>Hosting \"CharlesAdlerTonight\" Global News Radio Network. Weeknights 7 Pacific-10 Eastern - Email comments/ideas to charles@charlesadlertonight.ca</td>\n",
              "      <td>2008-09-10 11:28:53</td>\n",
              "      <td>49165</td>\n",
              "      <td>3933</td>\n",
              "      <td>21853</td>\n",
              "      <td>True</td>\n",
              "      <td>2020-12-12 20:23:59</td>\n",
              "      <td>Facts are immutable, Senator, even when you're not ethically sturdy enough to acknowledge them. (1) You were born i… https://t.co/jqgV18kch4</td>\n",
              "      <td>NaN</td>\n",
              "      <td>Twitter Web App</td>\n",
              "      <td>446</td>\n",
              "      <td>2129</td>\n",
              "      <td>False</td>\n",
              "    </tr>\n",
              "    <tr>\n",
              "      <th>4</th>\n",
              "      <td>1337854064604966912</td>\n",
              "      <td>Citizen News Channel</td>\n",
              "      <td>NaN</td>\n",
              "      <td>Citizen News Channel bringing you an alternative news source from citizen journalists that haven't sold out. Real news &amp; real views</td>\n",
              "      <td>2020-04-23 17:58:42</td>\n",
              "      <td>152</td>\n",
              "      <td>580</td>\n",
              "      <td>1473</td>\n",
              "      <td>False</td>\n",
              "      <td>2020-12-12 20:17:19</td>\n",
              "      <td>Explain to me again why we need a vaccine @BorisJohnson @MattHancock #whereareallthesickpeople #PfizerBioNTech… https://t.co/KxbSRoBEHq</td>\n",
              "      <td>['whereareallthesickpeople', 'PfizerBioNTech']</td>\n",
              "      <td>Twitter for iPhone</td>\n",
              "      <td>0</td>\n",
              "      <td>0</td>\n",
              "      <td>False</td>\n",
              "    </tr>\n",
              "    <tr>\n",
              "      <th>5</th>\n",
              "      <td>1337852648389832708</td>\n",
              "      <td>Dee</td>\n",
              "      <td>Birmingham, England</td>\n",
              "      <td>Gastroenterology trainee, Clinical Research Fellow in IBD, mother to human and fur baby, Canadian in Britain</td>\n",
              "      <td>2020-01-26 21:43:12</td>\n",
              "      <td>105</td>\n",
              "      <td>108</td>\n",
              "      <td>106</td>\n",
              "      <td>False</td>\n",
              "      <td>2020-12-12 20:11:42</td>\n",
              "      <td>Does anyone have any useful advice/guidance for whether the COVID vaccine is safe whilst breastfeeding?… https://t.co/EifsyQoeKN</td>\n",
              "      <td>NaN</td>\n",
              "      <td>Twitter for iPhone</td>\n",
              "      <td>0</td>\n",
              "      <td>0</td>\n",
              "      <td>False</td>\n",
              "    </tr>\n",
              "    <tr>\n",
              "      <th>6</th>\n",
              "      <td>1337851215875608579</td>\n",
              "      <td>Gunther Fehlinger</td>\n",
              "      <td>Austria, Ukraine and Kosovo</td>\n",
              "      <td>End North Stream 2 now - the pipeline of corruption, funding Russias war against Ukraine,Georgia, Syria and political intervention in USA and EU must be stopped</td>\n",
              "      <td>2013-06-10 17:49:22</td>\n",
              "      <td>2731</td>\n",
              "      <td>5001</td>\n",
              "      <td>69344</td>\n",
              "      <td>False</td>\n",
              "      <td>2020-12-12 20:06:00</td>\n",
              "      <td>it is a bit sad to claim the fame for success of #vaccination on patriotic competition between USA, Canada, UK and… https://t.co/IfMrAyGyTP</td>\n",
              "      <td>['vaccination']</td>\n",
              "      <td>Twitter Web App</td>\n",
              "      <td>0</td>\n",
              "      <td>4</td>\n",
              "      <td>False</td>\n",
              "    </tr>\n",
              "    <tr>\n",
              "      <th>7</th>\n",
              "      <td>1337850832256176136</td>\n",
              "      <td>Dr.Krutika Kuppalli</td>\n",
              "      <td>NaN</td>\n",
              "      <td>ID, Global Health, VHF, Pandemic Prep, Emerging Infections, &amp; Health Policy MD| U.S. Congress COVID-19 expert witness x 2 | ELBI 2020 @JHSPH_CHS</td>\n",
              "      <td>2019-03-25 04:14:29</td>\n",
              "      <td>21924</td>\n",
              "      <td>593</td>\n",
              "      <td>7815</td>\n",
              "      <td>True</td>\n",
              "      <td>2020-12-12 20:04:29</td>\n",
              "      <td>There have not been many bright days in 2020 but here are some of the best \\n1. #BidenHarris winning #Election2020… https://t.co/77u4f8XXfx</td>\n",
              "      <td>['BidenHarris', 'Election2020']</td>\n",
              "      <td>Twitter for iPhone</td>\n",
              "      <td>2</td>\n",
              "      <td>22</td>\n",
              "      <td>False</td>\n",
              "    </tr>\n",
              "    <tr>\n",
              "      <th>8</th>\n",
              "      <td>1337850023531347969</td>\n",
              "      <td>Erin Despas</td>\n",
              "      <td>NaN</td>\n",
              "      <td>Designing&amp;selling on Teespring. Like 90s Disney tv movies, old school WWE. Dislikes Intolerance, hate, bigots and snakes https://t.co/fa5n4gEHgR</td>\n",
              "      <td>2009-10-30 17:53:54</td>\n",
              "      <td>887</td>\n",
              "      <td>1515</td>\n",
              "      <td>9639</td>\n",
              "      <td>False</td>\n",
              "      <td>2020-12-12 20:01:16</td>\n",
              "      <td>Covid vaccine; You getting it?\\n\\n #CovidVaccine #covid19 #PfizerBioNTech #Moderna</td>\n",
              "      <td>['CovidVaccine', 'covid19', 'PfizerBioNTech', 'Moderna']</td>\n",
              "      <td>Twitter Web App</td>\n",
              "      <td>2</td>\n",
              "      <td>1</td>\n",
              "      <td>False</td>\n",
              "    </tr>\n",
              "    <tr>\n",
              "      <th>9</th>\n",
              "      <td>1337842295857623042</td>\n",
              "      <td>Ch.Amjad Ali</td>\n",
              "      <td>Islamabad</td>\n",
              "      <td>#ProudPakistani #LovePakArmy #PMIK @insafianspower1\\n#PoliticalScience #InternationalAffairs \\n#PAKUSTV #Newyork #Islamabad</td>\n",
              "      <td>2012-11-12 04:18:12</td>\n",
              "      <td>671</td>\n",
              "      <td>2368</td>\n",
              "      <td>20469</td>\n",
              "      <td>False</td>\n",
              "      <td>2020-12-12 19:30:33</td>\n",
              "      <td>#CovidVaccine \\n\\nStates will start getting #COVID19Vaccine Monday, #US says \\n#pakustv #NYC #Healthcare #GlobalGoals… https://t.co/MksOvBvs5w</td>\n",
              "      <td>['CovidVaccine', 'COVID19Vaccine', 'US', 'pakustv', 'NYC', 'Healthcare', 'GlobalGoals']</td>\n",
              "      <td>Twitter Web App</td>\n",
              "      <td>0</td>\n",
              "      <td>0</td>\n",
              "      <td>False</td>\n",
              "    </tr>\n",
              "  </tbody>\n",
              "</table>\n",
              "</div>"
            ]
          },
          "metadata": {
            "tags": []
          },
          "execution_count": 93
        }
      ]
    },
    {
      "cell_type": "code",
      "metadata": {
        "colab": {
          "base_uri": "https://localhost:8080/"
        },
        "id": "HaWh0PRWLgqW",
        "outputId": "0906fa8b-dff7-4d15-9329-894eafcb6863"
      },
      "source": [
        "df_tweets[\"text\"].isnull().sum()"
      ],
      "execution_count": null,
      "outputs": [
        {
          "output_type": "execute_result",
          "data": {
            "text/plain": [
              "0"
            ]
          },
          "metadata": {
            "tags": []
          },
          "execution_count": 94
        }
      ]
    },
    {
      "cell_type": "code",
      "metadata": {
        "colab": {
          "base_uri": "https://localhost:8080/"
        },
        "id": "J4aPMhD_PgOI",
        "outputId": "a47fc14e-97aa-46d1-f175-1dea0d29f96d"
      },
      "source": [
        "temp = []\n",
        "#Splitting pd.Series to list\n",
        "data_to_list = df_tweets[\"text\"].values.tolist()\n",
        "for i in range(len(data_to_list)):\n",
        "    temp.append(depure_data(data_to_list[i]))\n",
        "temp[:5]"
      ],
      "execution_count": null,
      "outputs": [
        {
          "output_type": "execute_result",
          "data": {
            "text/plain": [
              "['Same folks said daikon paste could treat a cytokine storm #PfizerBioNTech ',\n",
              " 'While the world has been on the wrong side of history this year, hopefully, the biggest vaccination effort weve ev… ',\n",
              " '#coronavirus #SputnikV #AstraZeneca #PfizerBioNTech #Moderna #Covid_19 Russian vaccine is created to last 2-4 years… ',\n",
              " 'Facts are immutable, Senator, even when youre not ethically sturdy enough to acknowledge them. (1) You were born i… ',\n",
              " 'Explain to me again why we need a vaccine #whereareallthesickpeople #PfizerBioNTech… ']"
            ]
          },
          "metadata": {
            "tags": []
          },
          "execution_count": 95
        }
      ]
    },
    {
      "cell_type": "code",
      "metadata": {
        "colab": {
          "base_uri": "https://localhost:8080/"
        },
        "id": "ntRtybIjPpme",
        "outputId": "bff1dc11-cb95-4ac2-b2e5-84164517c3e0"
      },
      "source": [
        "data_words = list(sent_to_words(temp))\n",
        "print(data_words[:10])"
      ],
      "execution_count": null,
      "outputs": [
        {
          "output_type": "stream",
          "text": [
            "[['same', 'folks', 'said', 'daikon', 'paste', 'could', 'treat', 'cytokine', 'storm', 'pfizerbiontech'], ['while', 'the', 'world', 'has', 'been', 'on', 'the', 'wrong', 'side', 'of', 'history', 'this', 'year', 'hopefully', 'the', 'biggest', 'vaccination', 'effort', 'weve', 'ev'], ['coronavirus', 'sputnikv', 'astrazeneca', 'pfizerbiontech', 'moderna', 'covid_', 'russian', 'vaccine', 'is', 'created', 'to', 'last', 'years'], ['facts', 'are', 'immutable', 'senator', 'even', 'when', 'youre', 'not', 'ethically', 'sturdy', 'enough', 'to', 'acknowledge', 'them', 'you', 'were', 'born'], ['explain', 'to', 'me', 'again', 'why', 'we', 'need', 'vaccine', 'pfizerbiontech'], ['does', 'anyone', 'have', 'any', 'useful', 'advice', 'guidance', 'for', 'whether', 'the', 'covid', 'vaccine', 'is', 'safe', 'whilst', 'breastfeeding'], ['it', 'is', 'bit', 'sad', 'to', 'claim', 'the', 'fame', 'for', 'success', 'of', 'vaccination', 'on', 'patriotic', 'competition', 'between', 'usa', 'canada', 'uk', 'and'], ['there', 'have', 'not', 'been', 'many', 'bright', 'days', 'in', 'but', 'here', 'are', 'some', 'of', 'the', 'best', 'bidenharris', 'winning', 'election'], ['covid', 'vaccine', 'you', 'getting', 'it', 'covidvaccine', 'covid', 'pfizerbiontech', 'moderna'], ['covidvaccine', 'states', 'will', 'start', 'getting', 'covid', 'vaccine', 'monday', 'us', 'says', 'pakustv', 'nyc', 'healthcare', 'globalgoals']]\n"
          ],
          "name": "stdout"
        }
      ]
    },
    {
      "cell_type": "code",
      "metadata": {
        "colab": {
          "base_uri": "https://localhost:8080/"
        },
        "id": "bEGdc2qqPwoz",
        "outputId": "854bc376-5390-4028-9e5b-c3cd5155cab9"
      },
      "source": [
        "data = []\n",
        "for i in range(len(data_words)):\n",
        "    data.append(TreebankWordDetokenizer().detokenize(data_words[i]))\n",
        "print(data[:10])"
      ],
      "execution_count": null,
      "outputs": [
        {
          "output_type": "stream",
          "text": [
            "['same folks said daikon paste could treat cytokine storm pfizerbiontech', 'while the world has been on the wrong side of history this year hopefully the biggest vaccination effort weve ev', 'coronavirus sputnikv astrazeneca pfizerbiontech moderna covid_ russian vaccine is created to last years', 'facts are immutable senator even when youre not ethically sturdy enough to acknowledge them you were born', 'explain to me again why we need vaccine pfizerbiontech', 'does anyone have any useful advice guidance for whether the covid vaccine is safe whilst breastfeeding', 'it is bit sad to claim the fame for success of vaccination on patriotic competition between usa canada uk and', 'there have not been many bright days in but here are some of the best bidenharris winning election', 'covid vaccine you getting it covidvaccine covid pfizerbiontech moderna', 'covidvaccine states will start getting covid vaccine monday us says pakustv nyc healthcare globalgoals']\n"
          ],
          "name": "stdout"
        }
      ]
    },
    {
      "cell_type": "code",
      "metadata": {
        "id": "KBsR864fQBKg"
      },
      "source": [
        "data = np.array(data)\n",
        "df_tweets['sentiment'] = np.nan"
      ],
      "execution_count": null,
      "outputs": []
    },
    {
      "cell_type": "markdown",
      "metadata": {
        "id": "cfAoiAD7QKeC"
      },
      "source": [
        "### Applying our model to vaccination set"
      ]
    },
    {
      "cell_type": "code",
      "metadata": {
        "id": "XsVMYoCxQv28"
      },
      "source": [
        "sentiment = ['Neutral','Negative','Positive']"
      ],
      "execution_count": null,
      "outputs": []
    },
    {
      "cell_type": "code",
      "metadata": {
        "colab": {
          "base_uri": "https://localhost:8080/"
        },
        "id": "jAeilhYlQI8s",
        "outputId": "93865adf-591a-4ee5-9e8b-0b2f0c9fd1a0"
      },
      "source": [
        "for i in range(len(temp)):\n",
        "    sequence = tokenizer.texts_to_sequences([temp[i]])\n",
        "    test = pad_sequences(sequence, maxlen=max_len)\n",
        "    df_tweets[\"sentiment\"][i] = sentiment[np.around(best_model.predict(test), decimals=0).argmax(axis=1)[0]]\n",
        "    if (i % 461 == 0):\n",
        "        percentage = i/len(temp) * 100\n",
        "        formatted_percentage = \"{:.0f}\".format(percentage)\n",
        "        print(formatted_percentage,\"%\")"
      ],
      "execution_count": null,
      "outputs": [
        {
          "output_type": "stream",
          "text": [
            "0 %\n",
            "1 %\n",
            "1 %\n",
            "2 %\n",
            "2 %\n",
            "3 %\n",
            "4 %\n",
            "4 %\n",
            "5 %\n",
            "5 %\n",
            "6 %\n",
            "6 %\n",
            "7 %\n",
            "8 %\n",
            "8 %\n",
            "9 %\n",
            "9 %\n",
            "10 %\n",
            "11 %\n",
            "11 %\n",
            "12 %\n",
            "12 %\n",
            "13 %\n",
            "14 %\n",
            "14 %\n",
            "15 %\n",
            "15 %\n",
            "16 %\n",
            "16 %\n",
            "17 %\n",
            "18 %\n",
            "18 %\n",
            "19 %\n",
            "19 %\n",
            "20 %\n",
            "21 %\n",
            "21 %\n",
            "22 %\n",
            "22 %\n",
            "23 %\n",
            "24 %\n",
            "24 %\n",
            "25 %\n",
            "25 %\n",
            "26 %\n",
            "26 %\n",
            "27 %\n",
            "28 %\n",
            "28 %\n",
            "29 %\n",
            "29 %\n",
            "30 %\n",
            "31 %\n",
            "31 %\n",
            "32 %\n",
            "32 %\n",
            "33 %\n",
            "34 %\n",
            "34 %\n",
            "35 %\n",
            "35 %\n",
            "36 %\n",
            "36 %\n",
            "37 %\n",
            "38 %\n",
            "38 %\n",
            "39 %\n",
            "39 %\n",
            "40 %\n",
            "41 %\n",
            "41 %\n",
            "42 %\n",
            "42 %\n",
            "43 %\n",
            "44 %\n",
            "44 %\n",
            "45 %\n",
            "45 %\n",
            "46 %\n",
            "47 %\n",
            "47 %\n",
            "48 %\n",
            "48 %\n",
            "49 %\n",
            "49 %\n",
            "50 %\n",
            "51 %\n",
            "51 %\n",
            "52 %\n",
            "52 %\n",
            "53 %\n",
            "54 %\n",
            "54 %\n",
            "55 %\n",
            "55 %\n",
            "56 %\n",
            "57 %\n",
            "57 %\n",
            "58 %\n",
            "58 %\n",
            "59 %\n",
            "59 %\n",
            "60 %\n",
            "61 %\n",
            "61 %\n",
            "62 %\n",
            "62 %\n",
            "63 %\n",
            "64 %\n",
            "64 %\n",
            "65 %\n",
            "65 %\n",
            "66 %\n",
            "67 %\n",
            "67 %\n",
            "68 %\n",
            "68 %\n",
            "69 %\n",
            "69 %\n",
            "70 %\n",
            "71 %\n",
            "71 %\n",
            "72 %\n",
            "72 %\n",
            "73 %\n",
            "74 %\n",
            "74 %\n",
            "75 %\n",
            "75 %\n",
            "76 %\n",
            "77 %\n",
            "77 %\n",
            "78 %\n",
            "78 %\n",
            "79 %\n",
            "79 %\n",
            "80 %\n",
            "81 %\n",
            "81 %\n",
            "82 %\n",
            "82 %\n",
            "83 %\n",
            "84 %\n",
            "84 %\n",
            "85 %\n",
            "85 %\n",
            "86 %\n",
            "87 %\n",
            "87 %\n",
            "88 %\n",
            "88 %\n",
            "89 %\n",
            "89 %\n",
            "90 %\n",
            "91 %\n",
            "91 %\n",
            "92 %\n",
            "92 %\n",
            "93 %\n",
            "94 %\n",
            "94 %\n",
            "95 %\n",
            "95 %\n",
            "96 %\n",
            "97 %\n",
            "97 %\n",
            "98 %\n",
            "98 %\n",
            "99 %\n",
            "99 %\n"
          ],
          "name": "stdout"
        }
      ]
    },
    {
      "cell_type": "code",
      "metadata": {
        "colab": {
          "base_uri": "https://localhost:8080/",
          "height": 1000
        },
        "id": "K0uFMsNLVHP8",
        "outputId": "eed0a990-3f15-4cd5-822b-5de6abe2338e"
      },
      "source": [
        "pd.set_option('display.max_colwidth', None)\n",
        "df_tweets[[\"text\", \"sentiment\"]].head(50)"
      ],
      "execution_count": null,
      "outputs": [
        {
          "output_type": "execute_result",
          "data": {
            "text/plain": [
              "                                                                                                                                                text  \\\n",
              "0                                                  Same folks said daikon paste could treat a cytokine storm #PfizerBioNTech https://t.co/xeHhIMg1kF   \n",
              "1       While the world has been on the wrong side of history this year, hopefully, the biggest vaccination effort we've ev… https://t.co/dlCHrZjkhm   \n",
              "2       #coronavirus #SputnikV #AstraZeneca #PfizerBioNTech #Moderna #Covid_19 Russian vaccine is created to last 2-4 years… https://t.co/ieYlCKBr8P   \n",
              "3       Facts are immutable, Senator, even when you're not ethically sturdy enough to acknowledge them. (1) You were born i… https://t.co/jqgV18kch4   \n",
              "4            Explain to me again why we need a vaccine @BorisJohnson @MattHancock #whereareallthesickpeople #PfizerBioNTech… https://t.co/KxbSRoBEHq   \n",
              "5                   Does anyone have any useful advice/guidance for whether the COVID vaccine is safe whilst breastfeeding?… https://t.co/EifsyQoeKN   \n",
              "6        it is a bit sad to claim the fame for success of #vaccination on patriotic competition between USA, Canada, UK and… https://t.co/IfMrAyGyTP   \n",
              "7        There have not been many bright days in 2020 but here are some of the best \\n1. #BidenHarris winning #Election2020… https://t.co/77u4f8XXfx   \n",
              "8                                                                 Covid vaccine; You getting it?\\n\\n #CovidVaccine #covid19 #PfizerBioNTech #Moderna   \n",
              "9     #CovidVaccine \\n\\nStates will start getting #COVID19Vaccine Monday, #US says \\n#pakustv #NYC #Healthcare #GlobalGoals… https://t.co/MksOvBvs5w   \n",
              "10    while deaths are closing in on the 300,000 mark... millions of people wait #PfizerBioNTech #Vaccine !\\n-\\nThe first U… https://t.co/uQ3A2f7SVP   \n",
              "11       @cnnbrk #COVID19 #CovidVaccine #vaccine #Corona   #PfizerBioNTech #bbcnews #NYTimes #BBCNews Best wishes to the US… https://t.co/9xWmfU3LZj   \n",
              "12      The agency also released new information for health care providers and for patients as the US shipped millions of d… https://t.co/sG6BtD7jD9   \n",
              "13                  For all the women and healthcare providers who have been asking about the safety of the #PfizerBioNTech… https://t.co/ow0Pglkwte   \n",
              "14      \"Expect 145 sites across all the states to receive vaccine on Monday, another 425 sites on Tuesday,\" said the offic… https://t.co/HiUVYJzOBY   \n",
              "15               Trump announces #vaccine rollout 'in less than 24 hours'\\n\\nThe first Americans will be vaccinated against… https://t.co/2FzQSMnhoY   \n",
              "16       UPDATED: #YellowFever &amp; #COVID19 #ImmunityPassports - Part Two\\n\\n#SARSCoV2 #PfizerBioNtech #Britain #December… https://t.co/qKT7Rst9aW   \n",
              "17            Coronavirus: Iran reports 8,201 new cases, 221 deaths in the last 24 hours #Iran #coronavirus #PfizerBioNTech… https://t.co/mwDNAdmb7F   \n",
              "18      .@Pfizer will rake in billions from its expensive #CovidVaccine but @AlbertBourla refuses to cut the price for lowe… https://t.co/eC94w3TUl0   \n",
              "19          The trump administration failed to deliver on vaccine promises, *shocker* #COVIDIOTS #coronavirus #CovidVaccine… https://t.co/hew6eHTUrD   \n",
              "20            How much did the #fda get paid to approve this all of a sudden now? money makes the world go around. #vaccine… https://t.co/GT9qVVNbKj   \n",
              "21      Anyone wondering why day after #PfizerBioNTech approval in the UK people were getting vaccinated but all we are tol… https://t.co/tPSyL9CUYE   \n",
              "22               Trump announces #vaccine rollout 'in less than 24 hours'\\n\\nThe first Americans will be vaccinated against… https://t.co/P9esXr3zpS   \n",
              "23              The US Food and Drug Administration (FDA) has granted emergency use authorization to Pfizer-BioNTech's mRNA… https://t.co/dPLokxGtBa   \n",
              "24     Presenting you the top Medical News/Advancement of the past week you don't want to miss!\\n\\n#docnosofficial #covid19… https://t.co/qOd5TPLYvA   \n",
              "25    No.1 of 2 done.\\n\\n#ThankYouNHS @NHSuk @MHRAgovuk and #PfizerBioNTech @pfizer for making the #CovidVaccine dream poss… https://t.co/3KvJ7UP432   \n",
              "26      Wear a mask, wash your hands, and remain socially distant when possible. #stayhome #StayAtHome #StayAtHomeSaveLives… https://t.co/Jrlrg6bm0w   \n",
              "27     ⁦@AvgerinosMoscow⁩ #PfizerBioNTech #FDA approval Apprentice Style!\\n⁦@realDonaldTrump⁩: “Approve the #vaccine or you… https://t.co/f64cOP5DV6   \n",
              "28      Interesting and very detailed article showing up how a well tested #supplychain, with #sharedvisibility will help d… https://t.co/yt3vn67mVg   \n",
              "29      💉 #Vaccine #TrumpVaccine #AstraZeneca #PfizerBioNTech #Pfizervaccine #PfizerCovidVaccine  #Pfizer's COVID-19 belong… https://t.co/ldxQhN6uix   \n",
              "30             @ZubyMusic 6 deaths so far. \\nIt's only death, nothing to worry about then 🤔\\n#CovidVaccines\\n#Pfizervaccine… https://t.co/HkGTDM5J3f   \n",
              "31                 @sbnumb3 @nytimes Please don’t spread fake news! There is no evidence that these cases are linked to the… https://t.co/bMcAhIPR5g   \n",
              "32                      #ICYMI The #FDA Authorized the #PfizerBioNTech #COVID19 #Vaccine for the United States last night\\n\\nhttps://t.co/CtYGB3fNnE   \n",
              "33      All respect to due process but why not give approval now instead of the 29th of December. Surely multiple other cou… https://t.co/Xv0SRv1Ukw   \n",
              "34                                                                  Vaccine!! Anyone?? #covid #Pfizervaccine #PfizerBioNTech https://t.co/b9ZKwnlIkX   \n",
              "35                               An immigrant Muslim couple find the COVID-19 Vaccine. \\n\\n#CovidVaccine #PfizerBioNTech #Pfizervaccine #PfizerProud   \n",
              "36      The #FDA finally issues #EUA now comes the problem transporting this #PfizerBioNTech vaccine, needs to be kept at -… https://t.co/NvaGyoo2yD   \n",
              "37              Ladies and Gentlemen, now we have #CovidVaccine experts in each and every household of #Pakistan #PfizerBioNTech #oxfordvaccine 🤦‍♂️   \n",
              "38                          FACT SHEET FOR HEALTHCARE PROVIDERS ADMINISTERING VACCINE\\n\\n#PfizerBioNTech \\n#CovidVaccine \\n\\nhttps://t.co/xRaOiACZSD   \n",
              "39      @mirekR9 @sputnikvaccine @AstraZeneca check out table 23 of this and other tables too because it took the penny a w… https://t.co/5r6ibs8Jm8   \n",
              "40    @mirekR9 @sputnikvaccine @AstraZeneca it's the only one which doesn't have any side effects \\n\\nthe #PfizerBioNTech a… https://t.co/IWELAATAmd   \n",
              "41                                           FACT SHEET FOR RECIPIENTS AND CAREGIVERS\\n\\n#PfizerBioNTech \\n#CovidVaccine \\n\\nhttps://t.co/V0mn08VTwj   \n",
              "42                                                #CovidVaccine #Pfizer-BioNTech COVID-19 #PfizerBioNTech #COVID19 #CapeTown https://t.co/uCpwv0S4nl   \n",
              "43               Trump announces #vaccine rollout 'in less than 24 hours'\\n\\nThe first Americans will be vaccinated against… https://t.co/6379SZjNQi   \n",
              "44                                                   #FDA authorizes #PfizerBioNTech #coronavirus vaccine for emergency use\\nhttps://t.co/VZ6bDPbbPG   \n",
              "45      When The #CovidVaccine \\nPoisons Enough Of The LEFT With \"Side Effects\" Like #BellsPalsy Or ☠️ As They Are Flocking… https://t.co/mGNvf2XT8i   \n",
              "46         @realDonaldTrump Dairy dose of dumbsville by #DonTheCon #GrifterInChief #TrumpForPrison #TrumpCrimeFamily #COVID… https://t.co/gyiCvTuMOP   \n",
              "47  The US #FDA has approved two #coronavirus vaccines: #PfizerBioNTech &amp; #Moderna. Over 200 #vaccines are being develo… https://t.co/6lboJqT9mn   \n",
              "48      As @EMA_News gets set to approve #PfizerBioNTech #vaccine, roll-out preparations pick up pace across #EU. Meanwhile… https://t.co/uWiv1SypWg   \n",
              "49     COVID-19: News and updates\\npublic questioned whether he actually received the shot.\\nVideo footage appeared to show… https://t.co/lBc2PJ2b9l   \n",
              "\n",
              "   sentiment  \n",
              "0    Neutral  \n",
              "1    Neutral  \n",
              "2    Neutral  \n",
              "3    Neutral  \n",
              "4    Neutral  \n",
              "5    Neutral  \n",
              "6    Neutral  \n",
              "7    Neutral  \n",
              "8   Positive  \n",
              "9    Neutral  \n",
              "10   Neutral  \n",
              "11  Positive  \n",
              "12   Neutral  \n",
              "13   Neutral  \n",
              "14   Neutral  \n",
              "15   Neutral  \n",
              "16   Neutral  \n",
              "17   Neutral  \n",
              "18   Neutral  \n",
              "19   Neutral  \n",
              "20   Neutral  \n",
              "21   Neutral  \n",
              "22   Neutral  \n",
              "23   Neutral  \n",
              "24   Neutral  \n",
              "25   Neutral  \n",
              "26   Neutral  \n",
              "27   Neutral  \n",
              "28   Neutral  \n",
              "29  Positive  \n",
              "30   Neutral  \n",
              "31   Neutral  \n",
              "32   Neutral  \n",
              "33   Neutral  \n",
              "34   Neutral  \n",
              "35   Neutral  \n",
              "36   Neutral  \n",
              "37   Neutral  \n",
              "38   Neutral  \n",
              "39   Neutral  \n",
              "40   Neutral  \n",
              "41   Neutral  \n",
              "42  Positive  \n",
              "43   Neutral  \n",
              "44   Neutral  \n",
              "45   Neutral  \n",
              "46   Neutral  \n",
              "47   Neutral  \n",
              "48   Neutral  \n",
              "49   Neutral  "
            ],
            "text/html": [
              "<div>\n",
              "<style scoped>\n",
              "    .dataframe tbody tr th:only-of-type {\n",
              "        vertical-align: middle;\n",
              "    }\n",
              "\n",
              "    .dataframe tbody tr th {\n",
              "        vertical-align: top;\n",
              "    }\n",
              "\n",
              "    .dataframe thead th {\n",
              "        text-align: right;\n",
              "    }\n",
              "</style>\n",
              "<table border=\"1\" class=\"dataframe\">\n",
              "  <thead>\n",
              "    <tr style=\"text-align: right;\">\n",
              "      <th></th>\n",
              "      <th>text</th>\n",
              "      <th>sentiment</th>\n",
              "    </tr>\n",
              "  </thead>\n",
              "  <tbody>\n",
              "    <tr>\n",
              "      <th>0</th>\n",
              "      <td>Same folks said daikon paste could treat a cytokine storm #PfizerBioNTech https://t.co/xeHhIMg1kF</td>\n",
              "      <td>Neutral</td>\n",
              "    </tr>\n",
              "    <tr>\n",
              "      <th>1</th>\n",
              "      <td>While the world has been on the wrong side of history this year, hopefully, the biggest vaccination effort we've ev… https://t.co/dlCHrZjkhm</td>\n",
              "      <td>Neutral</td>\n",
              "    </tr>\n",
              "    <tr>\n",
              "      <th>2</th>\n",
              "      <td>#coronavirus #SputnikV #AstraZeneca #PfizerBioNTech #Moderna #Covid_19 Russian vaccine is created to last 2-4 years… https://t.co/ieYlCKBr8P</td>\n",
              "      <td>Neutral</td>\n",
              "    </tr>\n",
              "    <tr>\n",
              "      <th>3</th>\n",
              "      <td>Facts are immutable, Senator, even when you're not ethically sturdy enough to acknowledge them. (1) You were born i… https://t.co/jqgV18kch4</td>\n",
              "      <td>Neutral</td>\n",
              "    </tr>\n",
              "    <tr>\n",
              "      <th>4</th>\n",
              "      <td>Explain to me again why we need a vaccine @BorisJohnson @MattHancock #whereareallthesickpeople #PfizerBioNTech… https://t.co/KxbSRoBEHq</td>\n",
              "      <td>Neutral</td>\n",
              "    </tr>\n",
              "    <tr>\n",
              "      <th>5</th>\n",
              "      <td>Does anyone have any useful advice/guidance for whether the COVID vaccine is safe whilst breastfeeding?… https://t.co/EifsyQoeKN</td>\n",
              "      <td>Neutral</td>\n",
              "    </tr>\n",
              "    <tr>\n",
              "      <th>6</th>\n",
              "      <td>it is a bit sad to claim the fame for success of #vaccination on patriotic competition between USA, Canada, UK and… https://t.co/IfMrAyGyTP</td>\n",
              "      <td>Neutral</td>\n",
              "    </tr>\n",
              "    <tr>\n",
              "      <th>7</th>\n",
              "      <td>There have not been many bright days in 2020 but here are some of the best \\n1. #BidenHarris winning #Election2020… https://t.co/77u4f8XXfx</td>\n",
              "      <td>Neutral</td>\n",
              "    </tr>\n",
              "    <tr>\n",
              "      <th>8</th>\n",
              "      <td>Covid vaccine; You getting it?\\n\\n #CovidVaccine #covid19 #PfizerBioNTech #Moderna</td>\n",
              "      <td>Positive</td>\n",
              "    </tr>\n",
              "    <tr>\n",
              "      <th>9</th>\n",
              "      <td>#CovidVaccine \\n\\nStates will start getting #COVID19Vaccine Monday, #US says \\n#pakustv #NYC #Healthcare #GlobalGoals… https://t.co/MksOvBvs5w</td>\n",
              "      <td>Neutral</td>\n",
              "    </tr>\n",
              "    <tr>\n",
              "      <th>10</th>\n",
              "      <td>while deaths are closing in on the 300,000 mark... millions of people wait #PfizerBioNTech #Vaccine !\\n-\\nThe first U… https://t.co/uQ3A2f7SVP</td>\n",
              "      <td>Neutral</td>\n",
              "    </tr>\n",
              "    <tr>\n",
              "      <th>11</th>\n",
              "      <td>@cnnbrk #COVID19 #CovidVaccine #vaccine #Corona   #PfizerBioNTech #bbcnews #NYTimes #BBCNews Best wishes to the US… https://t.co/9xWmfU3LZj</td>\n",
              "      <td>Positive</td>\n",
              "    </tr>\n",
              "    <tr>\n",
              "      <th>12</th>\n",
              "      <td>The agency also released new information for health care providers and for patients as the US shipped millions of d… https://t.co/sG6BtD7jD9</td>\n",
              "      <td>Neutral</td>\n",
              "    </tr>\n",
              "    <tr>\n",
              "      <th>13</th>\n",
              "      <td>For all the women and healthcare providers who have been asking about the safety of the #PfizerBioNTech… https://t.co/ow0Pglkwte</td>\n",
              "      <td>Neutral</td>\n",
              "    </tr>\n",
              "    <tr>\n",
              "      <th>14</th>\n",
              "      <td>\"Expect 145 sites across all the states to receive vaccine on Monday, another 425 sites on Tuesday,\" said the offic… https://t.co/HiUVYJzOBY</td>\n",
              "      <td>Neutral</td>\n",
              "    </tr>\n",
              "    <tr>\n",
              "      <th>15</th>\n",
              "      <td>Trump announces #vaccine rollout 'in less than 24 hours'\\n\\nThe first Americans will be vaccinated against… https://t.co/2FzQSMnhoY</td>\n",
              "      <td>Neutral</td>\n",
              "    </tr>\n",
              "    <tr>\n",
              "      <th>16</th>\n",
              "      <td>UPDATED: #YellowFever &amp;amp; #COVID19 #ImmunityPassports - Part Two\\n\\n#SARSCoV2 #PfizerBioNtech #Britain #December… https://t.co/qKT7Rst9aW</td>\n",
              "      <td>Neutral</td>\n",
              "    </tr>\n",
              "    <tr>\n",
              "      <th>17</th>\n",
              "      <td>Coronavirus: Iran reports 8,201 new cases, 221 deaths in the last 24 hours #Iran #coronavirus #PfizerBioNTech… https://t.co/mwDNAdmb7F</td>\n",
              "      <td>Neutral</td>\n",
              "    </tr>\n",
              "    <tr>\n",
              "      <th>18</th>\n",
              "      <td>.@Pfizer will rake in billions from its expensive #CovidVaccine but @AlbertBourla refuses to cut the price for lowe… https://t.co/eC94w3TUl0</td>\n",
              "      <td>Neutral</td>\n",
              "    </tr>\n",
              "    <tr>\n",
              "      <th>19</th>\n",
              "      <td>The trump administration failed to deliver on vaccine promises, *shocker* #COVIDIOTS #coronavirus #CovidVaccine… https://t.co/hew6eHTUrD</td>\n",
              "      <td>Neutral</td>\n",
              "    </tr>\n",
              "    <tr>\n",
              "      <th>20</th>\n",
              "      <td>How much did the #fda get paid to approve this all of a sudden now? money makes the world go around. #vaccine… https://t.co/GT9qVVNbKj</td>\n",
              "      <td>Neutral</td>\n",
              "    </tr>\n",
              "    <tr>\n",
              "      <th>21</th>\n",
              "      <td>Anyone wondering why day after #PfizerBioNTech approval in the UK people were getting vaccinated but all we are tol… https://t.co/tPSyL9CUYE</td>\n",
              "      <td>Neutral</td>\n",
              "    </tr>\n",
              "    <tr>\n",
              "      <th>22</th>\n",
              "      <td>Trump announces #vaccine rollout 'in less than 24 hours'\\n\\nThe first Americans will be vaccinated against… https://t.co/P9esXr3zpS</td>\n",
              "      <td>Neutral</td>\n",
              "    </tr>\n",
              "    <tr>\n",
              "      <th>23</th>\n",
              "      <td>The US Food and Drug Administration (FDA) has granted emergency use authorization to Pfizer-BioNTech's mRNA… https://t.co/dPLokxGtBa</td>\n",
              "      <td>Neutral</td>\n",
              "    </tr>\n",
              "    <tr>\n",
              "      <th>24</th>\n",
              "      <td>Presenting you the top Medical News/Advancement of the past week you don't want to miss!\\n\\n#docnosofficial #covid19… https://t.co/qOd5TPLYvA</td>\n",
              "      <td>Neutral</td>\n",
              "    </tr>\n",
              "    <tr>\n",
              "      <th>25</th>\n",
              "      <td>No.1 of 2 done.\\n\\n#ThankYouNHS @NHSuk @MHRAgovuk and #PfizerBioNTech @pfizer for making the #CovidVaccine dream poss… https://t.co/3KvJ7UP432</td>\n",
              "      <td>Neutral</td>\n",
              "    </tr>\n",
              "    <tr>\n",
              "      <th>26</th>\n",
              "      <td>Wear a mask, wash your hands, and remain socially distant when possible. #stayhome #StayAtHome #StayAtHomeSaveLives… https://t.co/Jrlrg6bm0w</td>\n",
              "      <td>Neutral</td>\n",
              "    </tr>\n",
              "    <tr>\n",
              "      <th>27</th>\n",
              "      <td>⁦@AvgerinosMoscow⁩ #PfizerBioNTech #FDA approval Apprentice Style!\\n⁦@realDonaldTrump⁩: “Approve the #vaccine or you… https://t.co/f64cOP5DV6</td>\n",
              "      <td>Neutral</td>\n",
              "    </tr>\n",
              "    <tr>\n",
              "      <th>28</th>\n",
              "      <td>Interesting and very detailed article showing up how a well tested #supplychain, with #sharedvisibility will help d… https://t.co/yt3vn67mVg</td>\n",
              "      <td>Neutral</td>\n",
              "    </tr>\n",
              "    <tr>\n",
              "      <th>29</th>\n",
              "      <td>💉 #Vaccine #TrumpVaccine #AstraZeneca #PfizerBioNTech #Pfizervaccine #PfizerCovidVaccine  #Pfizer's COVID-19 belong… https://t.co/ldxQhN6uix</td>\n",
              "      <td>Positive</td>\n",
              "    </tr>\n",
              "    <tr>\n",
              "      <th>30</th>\n",
              "      <td>@ZubyMusic 6 deaths so far. \\nIt's only death, nothing to worry about then 🤔\\n#CovidVaccines\\n#Pfizervaccine… https://t.co/HkGTDM5J3f</td>\n",
              "      <td>Neutral</td>\n",
              "    </tr>\n",
              "    <tr>\n",
              "      <th>31</th>\n",
              "      <td>@sbnumb3 @nytimes Please don’t spread fake news! There is no evidence that these cases are linked to the… https://t.co/bMcAhIPR5g</td>\n",
              "      <td>Neutral</td>\n",
              "    </tr>\n",
              "    <tr>\n",
              "      <th>32</th>\n",
              "      <td>#ICYMI The #FDA Authorized the #PfizerBioNTech #COVID19 #Vaccine for the United States last night\\n\\nhttps://t.co/CtYGB3fNnE</td>\n",
              "      <td>Neutral</td>\n",
              "    </tr>\n",
              "    <tr>\n",
              "      <th>33</th>\n",
              "      <td>All respect to due process but why not give approval now instead of the 29th of December. Surely multiple other cou… https://t.co/Xv0SRv1Ukw</td>\n",
              "      <td>Neutral</td>\n",
              "    </tr>\n",
              "    <tr>\n",
              "      <th>34</th>\n",
              "      <td>Vaccine!! Anyone?? #covid #Pfizervaccine #PfizerBioNTech https://t.co/b9ZKwnlIkX</td>\n",
              "      <td>Neutral</td>\n",
              "    </tr>\n",
              "    <tr>\n",
              "      <th>35</th>\n",
              "      <td>An immigrant Muslim couple find the COVID-19 Vaccine. \\n\\n#CovidVaccine #PfizerBioNTech #Pfizervaccine #PfizerProud</td>\n",
              "      <td>Neutral</td>\n",
              "    </tr>\n",
              "    <tr>\n",
              "      <th>36</th>\n",
              "      <td>The #FDA finally issues #EUA now comes the problem transporting this #PfizerBioNTech vaccine, needs to be kept at -… https://t.co/NvaGyoo2yD</td>\n",
              "      <td>Neutral</td>\n",
              "    </tr>\n",
              "    <tr>\n",
              "      <th>37</th>\n",
              "      <td>Ladies and Gentlemen, now we have #CovidVaccine experts in each and every household of #Pakistan #PfizerBioNTech #oxfordvaccine 🤦‍♂️</td>\n",
              "      <td>Neutral</td>\n",
              "    </tr>\n",
              "    <tr>\n",
              "      <th>38</th>\n",
              "      <td>FACT SHEET FOR HEALTHCARE PROVIDERS ADMINISTERING VACCINE\\n\\n#PfizerBioNTech \\n#CovidVaccine \\n\\nhttps://t.co/xRaOiACZSD</td>\n",
              "      <td>Neutral</td>\n",
              "    </tr>\n",
              "    <tr>\n",
              "      <th>39</th>\n",
              "      <td>@mirekR9 @sputnikvaccine @AstraZeneca check out table 23 of this and other tables too because it took the penny a w… https://t.co/5r6ibs8Jm8</td>\n",
              "      <td>Neutral</td>\n",
              "    </tr>\n",
              "    <tr>\n",
              "      <th>40</th>\n",
              "      <td>@mirekR9 @sputnikvaccine @AstraZeneca it's the only one which doesn't have any side effects \\n\\nthe #PfizerBioNTech a… https://t.co/IWELAATAmd</td>\n",
              "      <td>Neutral</td>\n",
              "    </tr>\n",
              "    <tr>\n",
              "      <th>41</th>\n",
              "      <td>FACT SHEET FOR RECIPIENTS AND CAREGIVERS\\n\\n#PfizerBioNTech \\n#CovidVaccine \\n\\nhttps://t.co/V0mn08VTwj</td>\n",
              "      <td>Neutral</td>\n",
              "    </tr>\n",
              "    <tr>\n",
              "      <th>42</th>\n",
              "      <td>#CovidVaccine #Pfizer-BioNTech COVID-19 #PfizerBioNTech #COVID19 #CapeTown https://t.co/uCpwv0S4nl</td>\n",
              "      <td>Positive</td>\n",
              "    </tr>\n",
              "    <tr>\n",
              "      <th>43</th>\n",
              "      <td>Trump announces #vaccine rollout 'in less than 24 hours'\\n\\nThe first Americans will be vaccinated against… https://t.co/6379SZjNQi</td>\n",
              "      <td>Neutral</td>\n",
              "    </tr>\n",
              "    <tr>\n",
              "      <th>44</th>\n",
              "      <td>#FDA authorizes #PfizerBioNTech #coronavirus vaccine for emergency use\\nhttps://t.co/VZ6bDPbbPG</td>\n",
              "      <td>Neutral</td>\n",
              "    </tr>\n",
              "    <tr>\n",
              "      <th>45</th>\n",
              "      <td>When The #CovidVaccine \\nPoisons Enough Of The LEFT With \"Side Effects\" Like #BellsPalsy Or ☠️ As They Are Flocking… https://t.co/mGNvf2XT8i</td>\n",
              "      <td>Neutral</td>\n",
              "    </tr>\n",
              "    <tr>\n",
              "      <th>46</th>\n",
              "      <td>@realDonaldTrump Dairy dose of dumbsville by #DonTheCon #GrifterInChief #TrumpForPrison #TrumpCrimeFamily #COVID… https://t.co/gyiCvTuMOP</td>\n",
              "      <td>Neutral</td>\n",
              "    </tr>\n",
              "    <tr>\n",
              "      <th>47</th>\n",
              "      <td>The US #FDA has approved two #coronavirus vaccines: #PfizerBioNTech &amp;amp; #Moderna. Over 200 #vaccines are being develo… https://t.co/6lboJqT9mn</td>\n",
              "      <td>Neutral</td>\n",
              "    </tr>\n",
              "    <tr>\n",
              "      <th>48</th>\n",
              "      <td>As @EMA_News gets set to approve #PfizerBioNTech #vaccine, roll-out preparations pick up pace across #EU. Meanwhile… https://t.co/uWiv1SypWg</td>\n",
              "      <td>Neutral</td>\n",
              "    </tr>\n",
              "    <tr>\n",
              "      <th>49</th>\n",
              "      <td>COVID-19: News and updates\\npublic questioned whether he actually received the shot.\\nVideo footage appeared to show… https://t.co/lBc2PJ2b9l</td>\n",
              "      <td>Neutral</td>\n",
              "    </tr>\n",
              "  </tbody>\n",
              "</table>\n",
              "</div>"
            ]
          },
          "metadata": {
            "tags": []
          },
          "execution_count": 102
        }
      ]
    },
    {
      "cell_type": "code",
      "metadata": {
        "id": "iRqaRvGmQf9w"
      },
      "source": [
        "csv_data = df_tweets.to_csv('output.csv', index=True)"
      ],
      "execution_count": null,
      "outputs": []
    },
    {
      "cell_type": "code",
      "metadata": {
        "colab": {
          "base_uri": "https://localhost:8080/"
        },
        "id": "Dxnqbgr8WbAI",
        "outputId": "33b84686-1f3a-4f84-8204-b09f898a5cb5"
      },
      "source": [
        "df_tweets['sentiment'].value_counts()"
      ],
      "execution_count": null,
      "outputs": [
        {
          "output_type": "execute_result",
          "data": {
            "text/plain": [
              "Neutral     74844\n",
              "Positive     3210\n",
              "Negative      265\n",
              "Name: sentiment, dtype: int64"
            ]
          },
          "metadata": {
            "tags": []
          },
          "execution_count": 103
        }
      ]
    },
    {
      "cell_type": "code",
      "metadata": {
        "id": "JX98Bymb53aZ"
      },
      "source": [
        ""
      ],
      "execution_count": null,
      "outputs": []
    }
  ]
}